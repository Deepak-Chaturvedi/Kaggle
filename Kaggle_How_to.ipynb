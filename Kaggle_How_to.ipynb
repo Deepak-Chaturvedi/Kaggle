{
  "nbformat": 4,
  "nbformat_minor": 0,
  "metadata": {
    "colab": {
      "provenance": [],
      "authorship_tag": "ABX9TyOgkI/la/FSHEWnF3xMrjVl",
      "include_colab_link": true
    },
    "kernelspec": {
      "name": "python3",
      "display_name": "Python 3"
    },
    "language_info": {
      "name": "python"
    }
  },
  "cells": [
    {
      "cell_type": "markdown",
      "metadata": {
        "id": "view-in-github",
        "colab_type": "text"
      },
      "source": [
        "<a href=\"https://colab.research.google.com/github/Deepak-Chaturvedi/Kaggle/blob/main/Kaggle_How_to.ipynb\" target=\"_parent\"><img src=\"https://colab.research.google.com/assets/colab-badge.svg\" alt=\"Open In Colab\"/></a>"
      ]
    },
    {
      "cell_type": "markdown",
      "source": [
        "### Easiest way to download kaggle data in Google Colab\n",
        "#### Please follow the steps below to download and use kaggle data within Google Colab:\n",
        "\n",
        "1. Go to your Kaggle account, Scroll to API section and Click Expire API Token to remove previous tokens\n",
        "\n",
        "2. Click on Create New API Token - It will download kaggle.json file on your machine.\n",
        "\n",
        "3. Go to your Google Colab project file and run the following commands:\n",
        "\n",
        "1) ! pip install -q kaggle\n",
        "\n",
        "2) from google.colab import files\n",
        "\n",
        "files.upload()\n",
        "\n",
        "Choose the kaggle.json file that you downloaded\n",
        "3) ! mkdir ~/.kaggle\n",
        "\n",
        "! cp kaggle.json ~/.kaggle/\n",
        "\n",
        "Make directory named kaggle and copy kaggle.json file there.\n",
        "4) ! chmod 600 ~/.kaggle/kaggle.json\n",
        "\n",
        "Change the permissions of the file.\n",
        "5) ! kaggle datasets list\n",
        "- That's all ! You can check if everything's okay by running this command.\n",
        "\n",
        "Download Data\n",
        "! kaggle competitions download -c 'name-of-competition'\n",
        "\n",
        "Use unzip command to unzip the data:\n",
        "\n",
        "For example,\n",
        "\n",
        "Create a directory named train,\n",
        "\n",
        "! mkdir train\n",
        "\n",
        "unzip train data there,\n",
        "\n",
        "! unzip train.zip -d train"
      ],
      "metadata": {
        "id": "Pjp34q8vMTRo"
      }
    },
    {
      "cell_type": "code",
      "source": [
        "! pip install -q kaggle\n",
        "from google.colab import files\n",
        "files.upload()"
      ],
      "metadata": {
        "id": "Dirj5TjhMjtL"
      },
      "execution_count": null,
      "outputs": []
    },
    {
      "cell_type": "code",
      "source": [
        "! mkdir ~/.kaggle\n",
        "! cp kaggle.json ~/.kaggle/\n",
        "! chmod 600 ~/.kaggle/kaggle.json\n",
        "! kaggle datasets list"
      ],
      "metadata": {
        "id": "n5XibbRUMqL_"
      },
      "execution_count": null,
      "outputs": []
    },
    {
      "cell_type": "code",
      "source": [
        "kaggle competitions download -c 'name-of-competition'\n",
        "! mkdir train\n",
        "! unzip train.zip -d train"
      ],
      "metadata": {
        "id": "6BO1U7HeM1U_"
      },
      "execution_count": null,
      "outputs": []
    }
  ]
}