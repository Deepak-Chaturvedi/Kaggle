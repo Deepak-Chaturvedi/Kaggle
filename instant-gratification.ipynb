{
  "metadata": {
    "kernelspec": {
      "language": "python",
      "display_name": "Python 3",
      "name": "python3"
    },
    "language_info": {
      "name": "python",
      "version": "3.7.12",
      "mimetype": "text/x-python",
      "codemirror_mode": {
        "name": "ipython",
        "version": 3
      },
      "pygments_lexer": "ipython3",
      "nbconvert_exporter": "python",
      "file_extension": ".py"
    },
    "colab": {
      "provenance": []
    }
  },
  "nbformat_minor": 0,
  "nbformat": 4,
  "cells": [
    {
      "cell_type": "code",
      "source": [
        "! pip install -q kaggle\n",
        "from google.colab import files\n",
        "files.upload()"
      ],
      "metadata": {
        "id": "Vmjg0CrjsOcj",
        "outputId": "2d28e580-c313-4de9-a26d-7c117dbb73aa",
        "colab": {
          "base_uri": "https://localhost:8080/",
          "height": 91
        }
      },
      "execution_count": 1,
      "outputs": [
        {
          "output_type": "display_data",
          "data": {
            "text/plain": [
              "<IPython.core.display.HTML object>"
            ],
            "text/html": [
              "\n",
              "     <input type=\"file\" id=\"files-2cf76061-7540-45e6-b7bf-f3199a1b8f5a\" name=\"files[]\" multiple disabled\n",
              "        style=\"border:none\" />\n",
              "     <output id=\"result-2cf76061-7540-45e6-b7bf-f3199a1b8f5a\">\n",
              "      Upload widget is only available when the cell has been executed in the\n",
              "      current browser session. Please rerun this cell to enable.\n",
              "      </output>\n",
              "      <script>// Copyright 2017 Google LLC\n",
              "//\n",
              "// Licensed under the Apache License, Version 2.0 (the \"License\");\n",
              "// you may not use this file except in compliance with the License.\n",
              "// You may obtain a copy of the License at\n",
              "//\n",
              "//      http://www.apache.org/licenses/LICENSE-2.0\n",
              "//\n",
              "// Unless required by applicable law or agreed to in writing, software\n",
              "// distributed under the License is distributed on an \"AS IS\" BASIS,\n",
              "// WITHOUT WARRANTIES OR CONDITIONS OF ANY KIND, either express or implied.\n",
              "// See the License for the specific language governing permissions and\n",
              "// limitations under the License.\n",
              "\n",
              "/**\n",
              " * @fileoverview Helpers for google.colab Python module.\n",
              " */\n",
              "(function(scope) {\n",
              "function span(text, styleAttributes = {}) {\n",
              "  const element = document.createElement('span');\n",
              "  element.textContent = text;\n",
              "  for (const key of Object.keys(styleAttributes)) {\n",
              "    element.style[key] = styleAttributes[key];\n",
              "  }\n",
              "  return element;\n",
              "}\n",
              "\n",
              "// Max number of bytes which will be uploaded at a time.\n",
              "const MAX_PAYLOAD_SIZE = 100 * 1024;\n",
              "\n",
              "function _uploadFiles(inputId, outputId) {\n",
              "  const steps = uploadFilesStep(inputId, outputId);\n",
              "  const outputElement = document.getElementById(outputId);\n",
              "  // Cache steps on the outputElement to make it available for the next call\n",
              "  // to uploadFilesContinue from Python.\n",
              "  outputElement.steps = steps;\n",
              "\n",
              "  return _uploadFilesContinue(outputId);\n",
              "}\n",
              "\n",
              "// This is roughly an async generator (not supported in the browser yet),\n",
              "// where there are multiple asynchronous steps and the Python side is going\n",
              "// to poll for completion of each step.\n",
              "// This uses a Promise to block the python side on completion of each step,\n",
              "// then passes the result of the previous step as the input to the next step.\n",
              "function _uploadFilesContinue(outputId) {\n",
              "  const outputElement = document.getElementById(outputId);\n",
              "  const steps = outputElement.steps;\n",
              "\n",
              "  const next = steps.next(outputElement.lastPromiseValue);\n",
              "  return Promise.resolve(next.value.promise).then((value) => {\n",
              "    // Cache the last promise value to make it available to the next\n",
              "    // step of the generator.\n",
              "    outputElement.lastPromiseValue = value;\n",
              "    return next.value.response;\n",
              "  });\n",
              "}\n",
              "\n",
              "/**\n",
              " * Generator function which is called between each async step of the upload\n",
              " * process.\n",
              " * @param {string} inputId Element ID of the input file picker element.\n",
              " * @param {string} outputId Element ID of the output display.\n",
              " * @return {!Iterable<!Object>} Iterable of next steps.\n",
              " */\n",
              "function* uploadFilesStep(inputId, outputId) {\n",
              "  const inputElement = document.getElementById(inputId);\n",
              "  inputElement.disabled = false;\n",
              "\n",
              "  const outputElement = document.getElementById(outputId);\n",
              "  outputElement.innerHTML = '';\n",
              "\n",
              "  const pickedPromise = new Promise((resolve) => {\n",
              "    inputElement.addEventListener('change', (e) => {\n",
              "      resolve(e.target.files);\n",
              "    });\n",
              "  });\n",
              "\n",
              "  const cancel = document.createElement('button');\n",
              "  inputElement.parentElement.appendChild(cancel);\n",
              "  cancel.textContent = 'Cancel upload';\n",
              "  const cancelPromise = new Promise((resolve) => {\n",
              "    cancel.onclick = () => {\n",
              "      resolve(null);\n",
              "    };\n",
              "  });\n",
              "\n",
              "  // Wait for the user to pick the files.\n",
              "  const files = yield {\n",
              "    promise: Promise.race([pickedPromise, cancelPromise]),\n",
              "    response: {\n",
              "      action: 'starting',\n",
              "    }\n",
              "  };\n",
              "\n",
              "  cancel.remove();\n",
              "\n",
              "  // Disable the input element since further picks are not allowed.\n",
              "  inputElement.disabled = true;\n",
              "\n",
              "  if (!files) {\n",
              "    return {\n",
              "      response: {\n",
              "        action: 'complete',\n",
              "      }\n",
              "    };\n",
              "  }\n",
              "\n",
              "  for (const file of files) {\n",
              "    const li = document.createElement('li');\n",
              "    li.append(span(file.name, {fontWeight: 'bold'}));\n",
              "    li.append(span(\n",
              "        `(${file.type || 'n/a'}) - ${file.size} bytes, ` +\n",
              "        `last modified: ${\n",
              "            file.lastModifiedDate ? file.lastModifiedDate.toLocaleDateString() :\n",
              "                                    'n/a'} - `));\n",
              "    const percent = span('0% done');\n",
              "    li.appendChild(percent);\n",
              "\n",
              "    outputElement.appendChild(li);\n",
              "\n",
              "    const fileDataPromise = new Promise((resolve) => {\n",
              "      const reader = new FileReader();\n",
              "      reader.onload = (e) => {\n",
              "        resolve(e.target.result);\n",
              "      };\n",
              "      reader.readAsArrayBuffer(file);\n",
              "    });\n",
              "    // Wait for the data to be ready.\n",
              "    let fileData = yield {\n",
              "      promise: fileDataPromise,\n",
              "      response: {\n",
              "        action: 'continue',\n",
              "      }\n",
              "    };\n",
              "\n",
              "    // Use a chunked sending to avoid message size limits. See b/62115660.\n",
              "    let position = 0;\n",
              "    do {\n",
              "      const length = Math.min(fileData.byteLength - position, MAX_PAYLOAD_SIZE);\n",
              "      const chunk = new Uint8Array(fileData, position, length);\n",
              "      position += length;\n",
              "\n",
              "      const base64 = btoa(String.fromCharCode.apply(null, chunk));\n",
              "      yield {\n",
              "        response: {\n",
              "          action: 'append',\n",
              "          file: file.name,\n",
              "          data: base64,\n",
              "        },\n",
              "      };\n",
              "\n",
              "      let percentDone = fileData.byteLength === 0 ?\n",
              "          100 :\n",
              "          Math.round((position / fileData.byteLength) * 100);\n",
              "      percent.textContent = `${percentDone}% done`;\n",
              "\n",
              "    } while (position < fileData.byteLength);\n",
              "  }\n",
              "\n",
              "  // All done.\n",
              "  yield {\n",
              "    response: {\n",
              "      action: 'complete',\n",
              "    }\n",
              "  };\n",
              "}\n",
              "\n",
              "scope.google = scope.google || {};\n",
              "scope.google.colab = scope.google.colab || {};\n",
              "scope.google.colab._files = {\n",
              "  _uploadFiles,\n",
              "  _uploadFilesContinue,\n",
              "};\n",
              "})(self);\n",
              "</script> "
            ]
          },
          "metadata": {}
        },
        {
          "output_type": "stream",
          "name": "stdout",
          "text": [
            "Saving kaggle.json to kaggle.json\n"
          ]
        },
        {
          "output_type": "execute_result",
          "data": {
            "text/plain": [
              "{'kaggle.json': b'{\"username\":\"chaturvedi\",\"key\":\"656c5469058e3eb60d5fce571b626975\"}'}"
            ]
          },
          "metadata": {},
          "execution_count": 1
        }
      ]
    },
    {
      "cell_type": "code",
      "source": [
        "! mkdir ~/.kaggle\n",
        "! cp kaggle.json ~/.kaggle/\n",
        "! chmod 600 ~/.kaggle/kaggle.json\n",
        "! kaggle datasets list"
      ],
      "metadata": {
        "id": "R16ORMY6sTsh",
        "outputId": "99ee6996-26ef-4a3a-ffc7-e75aec2686cd",
        "colab": {
          "base_uri": "https://localhost:8080/"
        }
      },
      "execution_count": 2,
      "outputs": [
        {
          "output_type": "stream",
          "name": "stdout",
          "text": [
            "ref                                                            title                                                size  lastUpdated          downloadCount  voteCount  usabilityRating  \n",
            "-------------------------------------------------------------  --------------------------------------------------  -----  -------------------  -------------  ---------  ---------------  \n",
            "arnabchaki/data-science-salaries-2023                          Data Science Salaries 2023  💸                        25KB  2023-04-13 09:55:16           5473        134  1.0              \n",
            "salvatorerastelli/spotify-and-youtube                          Spotify and Youtube                                   9MB  2023-03-20 15:43:25          11311        396  1.0              \n",
            "erdemtaha/cancer-data                                          Cancer Data                                          49KB  2023-03-22 07:57:00           5747        115  1.0              \n",
            "evangower/premier-league-2022-2023                             Premier League 2022-2023                              7KB  2023-04-14 19:45:22           1530         38  1.0              \n",
            "lokeshparab/amazon-products-dataset                            Amazon Products Sales Dataset 2023                   80MB  2023-03-26 10:45:19           5988        128  1.0              \n",
            "iammustafatz/diabetes-prediction-dataset                       Diabetes prediction dataset                         734KB  2023-04-08 06:11:45           2794         48  1.0              \n",
            "ulrikthygepedersen/fastfood-nutrition                          Fastfood Nutrition                                   12KB  2023-03-21 10:02:41           4724         89  1.0              \n",
            "mikoajfish99/us-recession-and-financial-indicators             🏛️  Financial Indicators of US Recession 📉          989KB  2023-04-17 13:54:47            679         31  1.0              \n",
            "desalegngeb/students-exam-scores                               Students Exam Scores: Extended Dataset              695KB  2023-04-14 00:15:38           2031         54  1.0              \n",
            "rkiattisak/student-performance-in-mathematics                  Student performance prediction                        9KB  2023-03-12 04:32:56          10656        230  1.0              \n",
            "ppb00x/credit-risk-customers                                   credit_risk_customers                                18KB  2023-04-12 08:28:28           1959         48  1.0              \n",
            "ritwikb3/heart-disease-cleveland                               Heart Disease Cleveland                               3KB  2023-03-28 17:48:48            875         25  1.0              \n",
            "ppb00x/country-gdp                                             Country_GDP                                           7KB  2023-04-07 06:47:36           1696         42  1.0              \n",
            "dansbecker/melbourne-housing-snapshot                          Melbourne Housing Snapshot                          451KB  2018-06-05 12:52:24         114021       1252  0.7058824        \n",
            "r1shabhgupta/google-stock-price-daily-weekly-and-monthly-2023  Google Stock Price: Daily, Weekly & Monthly (2023)   61KB  2023-04-15 18:23:08            906         33  1.0              \n",
            "omartorres25/honda-data                                        Honda Cars Data                                     184KB  2023-03-28 04:19:11           1984         36  1.0              \n",
            "harshghadiya/kidneystone                                       Kidney Stone Dataset                                  2KB  2023-04-12 06:09:00           1036         27  0.8235294        \n",
            "ashishraut64/internet-users                                    Global Internet users                               163KB  2023-03-29 12:25:13           3146         72  1.0              \n",
            "andrezaza/clapper-massive-rotten-tomatoes-movies-and-reviews   🎬 Massive Rotten Tomatoes Movies & Reviews          152MB  2023-04-13 10:58:54            862         35  1.0              \n",
            "r1chardson/the-world-university-rankings-2011-2023             THE World University Rankings 2011-2023               1MB  2023-04-03 12:43:37           2955         65  1.0              \n"
          ]
        }
      ]
    },
    {
      "cell_type": "code",
      "source": [
        "!kaggle competitions download -c instant-gratification\n",
        "! mkdir instant-gratification"
      ],
      "metadata": {
        "id": "o99eH02csXPQ",
        "outputId": "a32f2653-662b-4049-e00b-e39b9981cef1",
        "colab": {
          "base_uri": "https://localhost:8080/"
        }
      },
      "execution_count": 4,
      "outputs": [
        {
          "output_type": "stream",
          "name": "stdout",
          "text": [
            "Downloading instant-gratification.zip to /content\n",
            " 99% 408M/414M [00:04<00:00, 100MB/s] \n",
            "100% 414M/414M [00:04<00:00, 88.6MB/s]\n"
          ]
        }
      ]
    },
    {
      "cell_type": "code",
      "source": [
        "! unzip instant-gratification.zip "
      ],
      "metadata": {
        "id": "w0S7gFymsvXl",
        "outputId": "16de6003-1434-4fcb-bfdc-f771e54f04ca",
        "colab": {
          "base_uri": "https://localhost:8080/"
        }
      },
      "execution_count": 6,
      "outputs": [
        {
          "output_type": "stream",
          "name": "stdout",
          "text": [
            "Archive:  instant-gratification.zip\n",
            "  inflating: sample_submission.csv   \n",
            "  inflating: test.csv                \n",
            "  inflating: train.csv               \n"
          ]
        }
      ]
    },
    {
      "cell_type": "code",
      "source": [],
      "metadata": {
        "id": "Q1IlTBJbsoQt"
      },
      "execution_count": null,
      "outputs": []
    },
    {
      "cell_type": "code",
      "source": [
        "# This Python 3 environment comes with many helpful analytics libraries installed\n",
        "# It is defined by the kaggle/python Docker image: https://github.com/kaggle/docker-python\n",
        "# For example, here's several helpful packages to load\n",
        "\n",
        "import numpy as np # linear algebra\n",
        "import pandas as pd # data processing, CSV file I/O (e.g. pd.read_csv)\n",
        "\n",
        "# Input data files are available in the read-only \"../input/\" directory\n",
        "# For example, running this (by clicking run or pressing Shift+Enter) will list all files under the input directory\n",
        "\n",
        "import os\n",
        "for dirname, _, filenames in os.walk('/kaggle/input'):\n",
        "    for filename in filenames:\n",
        "        print(os.path.join(dirname, filename))\n",
        "\n",
        "# You can write up to 20GB to the current directory (/kaggle/working/) that gets preserved as output when you create a version using \"Save & Run All\" \n",
        "# You can also write temporary files to /kaggle/temp/, but they won't be saved outside of the current session"
      ],
      "metadata": {
        "_uuid": "8f2839f25d086af736a60e9eeb907d3b93b6e0e5",
        "_cell_guid": "b1076dfc-b9ad-4769-8c92-a6c4dae69d19",
        "execution": {
          "iopub.status.busy": "2023-04-28T12:47:06.432913Z",
          "iopub.execute_input": "2023-04-28T12:47:06.433328Z",
          "iopub.status.idle": "2023-04-28T12:47:06.443910Z",
          "shell.execute_reply.started": "2023-04-28T12:47:06.433292Z",
          "shell.execute_reply": "2023-04-28T12:47:06.442405Z"
        },
        "trusted": true,
        "id": "YaAvMcvisMWi"
      },
      "execution_count": 7,
      "outputs": []
    },
    {
      "cell_type": "code",
      "source": [
        "import seaborn as sns\n",
        "import matplotlib.pyplot as plt "
      ],
      "metadata": {
        "execution": {
          "iopub.status.busy": "2023-04-28T12:47:06.447268Z",
          "iopub.execute_input": "2023-04-28T12:47:06.447746Z",
          "iopub.status.idle": "2023-04-28T12:47:06.769732Z",
          "shell.execute_reply.started": "2023-04-28T12:47:06.447704Z",
          "shell.execute_reply": "2023-04-28T12:47:06.768482Z"
        },
        "trusted": true,
        "id": "V_9a8w60sMWk"
      },
      "execution_count": 8,
      "outputs": []
    },
    {
      "cell_type": "markdown",
      "source": [
        "#### Import the training and test datasets"
      ],
      "metadata": {
        "id": "mhmA7I4ksMWl"
      }
    },
    {
      "cell_type": "code",
      "source": [
        "#train = pd.read_csv('/kaggle/input/instant-gratification/train.csv')\n",
        "train = pd.read_csv('train.csv')\n",
        "\n",
        "train.head()"
      ],
      "metadata": {
        "execution": {
          "iopub.status.busy": "2023-04-28T12:47:06.772484Z",
          "iopub.execute_input": "2023-04-28T12:47:06.773005Z",
          "iopub.status.idle": "2023-04-28T12:47:27.433635Z",
          "shell.execute_reply.started": "2023-04-28T12:47:06.772965Z",
          "shell.execute_reply": "2023-04-28T12:47:27.432315Z"
        },
        "trusted": true,
        "id": "JbbpXt5usMWm",
        "outputId": "bbc00d66-9c23-4214-c948-0c0cb10e316a",
        "colab": {
          "base_uri": "https://localhost:8080/",
          "height": 351
        }
      },
      "execution_count": 12,
      "outputs": [
        {
          "output_type": "execute_result",
          "data": {
            "text/plain": [
              "                                 id  muggy-smalt-axolotl-pembus  \\\n",
              "0  707b395ecdcbb4dc2eabea00e4d1b179                   -2.070654   \n",
              "1  5880c03c6582a7b42248668e56b4bdec                   -0.491702   \n",
              "2  4ccbcb3d13e5072ff1d9c61afe2c4f77                   -1.680473   \n",
              "3  e350f17a357f12a1941f0837afb7eb8d                    0.183774   \n",
              "4  a8f910ea6075b6376af079055965ff68                   -0.203933   \n",
              "\n",
              "   dorky-peach-sheepdog-ordinal  slimy-seashell-cassowary-goose  \\\n",
              "0                      1.018160                        0.228643   \n",
              "1                      0.082645                       -0.011193   \n",
              "2                      0.860529                       -1.076195   \n",
              "3                      0.919134                       -0.946958   \n",
              "4                     -0.177252                        0.368074   \n",
              "\n",
              "   snazzy-harlequin-chicken-distraction  frumpy-smalt-mau-ordinal  \\\n",
              "0                              0.857221                  0.052271   \n",
              "1                              1.071266                 -0.346347   \n",
              "2                              0.740124                  3.678445   \n",
              "3                              0.918492                  0.862278   \n",
              "4                             -0.701320                 -1.104391   \n",
              "\n",
              "   stealthy-beige-pinscher-golden  chummy-cream-tarantula-entropy  \\\n",
              "0                        0.230303                       -6.385090   \n",
              "1                       -0.082209                        0.110579   \n",
              "2                        0.288558                        0.515875   \n",
              "3                        1.155287                        0.911106   \n",
              "4                        0.735760                        0.894273   \n",
              "\n",
              "   hazy-emerald-cuttlefish-unsorted  nerdy-indigo-wolfhound-sorted  ...  \\\n",
              "0                          0.439369                      -0.721946  ...   \n",
              "1                         -0.382374                      -0.229620  ...   \n",
              "2                          0.920590                      -1.223277  ...   \n",
              "3                          0.562598                      -1.349685  ...   \n",
              "4                         -1.375826                      -5.144946  ...   \n",
              "\n",
              "   wheezy-myrtle-mandrill-entropy  wiggy-lilac-lemming-sorted  \\\n",
              "0                        0.351895                    0.618824   \n",
              "1                       -0.645115                   -1.246090   \n",
              "2                        0.516422                    0.130521   \n",
              "3                       -1.168967                    1.385089   \n",
              "4                       -0.279168                    1.544356   \n",
              "\n",
              "   gloppy-cerise-snail-contributor  woozy-silver-havanese-gaussian  \\\n",
              "0                        -1.542423                        0.598175   \n",
              "1                         2.613357                       -0.479664   \n",
              "2                        -0.459210                        2.028205   \n",
              "3                        -0.353028                        3.316150   \n",
              "4                         2.959727                        1.641201   \n",
              "\n",
              "   jumpy-thistle-discus-sorted  muggy-turquoise-donkey-important  \\\n",
              "0                     0.611757                          0.678772   \n",
              "1                     1.581289                          0.931258   \n",
              "2                    -0.093968                         -0.218274   \n",
              "3                    -0.524087                         -0.794327   \n",
              "4                    -0.130818                         -0.264292   \n",
              "\n",
              "   blurry-buff-hyena-entropy  bluesy-chocolate-kudu-fepid  \\\n",
              "0                   0.247059                    -0.806677   \n",
              "1                   0.151937                    -0.766595   \n",
              "2                  -0.163136                    -0.870289   \n",
              "3                   3.936365                     0.682989   \n",
              "4                  -0.748668                     0.964218   \n",
              "\n",
              "   gamy-white-monster-expert  target  \n",
              "0                  -0.193649       0  \n",
              "1                   0.474351       0  \n",
              "2                   0.064038       1  \n",
              "3                  -2.521211       0  \n",
              "4                   0.087079       0  \n",
              "\n",
              "[5 rows x 258 columns]"
            ],
            "text/html": [
              "\n",
              "  <div id=\"df-638c6cd6-d49a-43a8-96d0-2ddd3d37fc63\">\n",
              "    <div class=\"colab-df-container\">\n",
              "      <div>\n",
              "<style scoped>\n",
              "    .dataframe tbody tr th:only-of-type {\n",
              "        vertical-align: middle;\n",
              "    }\n",
              "\n",
              "    .dataframe tbody tr th {\n",
              "        vertical-align: top;\n",
              "    }\n",
              "\n",
              "    .dataframe thead th {\n",
              "        text-align: right;\n",
              "    }\n",
              "</style>\n",
              "<table border=\"1\" class=\"dataframe\">\n",
              "  <thead>\n",
              "    <tr style=\"text-align: right;\">\n",
              "      <th></th>\n",
              "      <th>id</th>\n",
              "      <th>muggy-smalt-axolotl-pembus</th>\n",
              "      <th>dorky-peach-sheepdog-ordinal</th>\n",
              "      <th>slimy-seashell-cassowary-goose</th>\n",
              "      <th>snazzy-harlequin-chicken-distraction</th>\n",
              "      <th>frumpy-smalt-mau-ordinal</th>\n",
              "      <th>stealthy-beige-pinscher-golden</th>\n",
              "      <th>chummy-cream-tarantula-entropy</th>\n",
              "      <th>hazy-emerald-cuttlefish-unsorted</th>\n",
              "      <th>nerdy-indigo-wolfhound-sorted</th>\n",
              "      <th>...</th>\n",
              "      <th>wheezy-myrtle-mandrill-entropy</th>\n",
              "      <th>wiggy-lilac-lemming-sorted</th>\n",
              "      <th>gloppy-cerise-snail-contributor</th>\n",
              "      <th>woozy-silver-havanese-gaussian</th>\n",
              "      <th>jumpy-thistle-discus-sorted</th>\n",
              "      <th>muggy-turquoise-donkey-important</th>\n",
              "      <th>blurry-buff-hyena-entropy</th>\n",
              "      <th>bluesy-chocolate-kudu-fepid</th>\n",
              "      <th>gamy-white-monster-expert</th>\n",
              "      <th>target</th>\n",
              "    </tr>\n",
              "  </thead>\n",
              "  <tbody>\n",
              "    <tr>\n",
              "      <th>0</th>\n",
              "      <td>707b395ecdcbb4dc2eabea00e4d1b179</td>\n",
              "      <td>-2.070654</td>\n",
              "      <td>1.018160</td>\n",
              "      <td>0.228643</td>\n",
              "      <td>0.857221</td>\n",
              "      <td>0.052271</td>\n",
              "      <td>0.230303</td>\n",
              "      <td>-6.385090</td>\n",
              "      <td>0.439369</td>\n",
              "      <td>-0.721946</td>\n",
              "      <td>...</td>\n",
              "      <td>0.351895</td>\n",
              "      <td>0.618824</td>\n",
              "      <td>-1.542423</td>\n",
              "      <td>0.598175</td>\n",
              "      <td>0.611757</td>\n",
              "      <td>0.678772</td>\n",
              "      <td>0.247059</td>\n",
              "      <td>-0.806677</td>\n",
              "      <td>-0.193649</td>\n",
              "      <td>0</td>\n",
              "    </tr>\n",
              "    <tr>\n",
              "      <th>1</th>\n",
              "      <td>5880c03c6582a7b42248668e56b4bdec</td>\n",
              "      <td>-0.491702</td>\n",
              "      <td>0.082645</td>\n",
              "      <td>-0.011193</td>\n",
              "      <td>1.071266</td>\n",
              "      <td>-0.346347</td>\n",
              "      <td>-0.082209</td>\n",
              "      <td>0.110579</td>\n",
              "      <td>-0.382374</td>\n",
              "      <td>-0.229620</td>\n",
              "      <td>...</td>\n",
              "      <td>-0.645115</td>\n",
              "      <td>-1.246090</td>\n",
              "      <td>2.613357</td>\n",
              "      <td>-0.479664</td>\n",
              "      <td>1.581289</td>\n",
              "      <td>0.931258</td>\n",
              "      <td>0.151937</td>\n",
              "      <td>-0.766595</td>\n",
              "      <td>0.474351</td>\n",
              "      <td>0</td>\n",
              "    </tr>\n",
              "    <tr>\n",
              "      <th>2</th>\n",
              "      <td>4ccbcb3d13e5072ff1d9c61afe2c4f77</td>\n",
              "      <td>-1.680473</td>\n",
              "      <td>0.860529</td>\n",
              "      <td>-1.076195</td>\n",
              "      <td>0.740124</td>\n",
              "      <td>3.678445</td>\n",
              "      <td>0.288558</td>\n",
              "      <td>0.515875</td>\n",
              "      <td>0.920590</td>\n",
              "      <td>-1.223277</td>\n",
              "      <td>...</td>\n",
              "      <td>0.516422</td>\n",
              "      <td>0.130521</td>\n",
              "      <td>-0.459210</td>\n",
              "      <td>2.028205</td>\n",
              "      <td>-0.093968</td>\n",
              "      <td>-0.218274</td>\n",
              "      <td>-0.163136</td>\n",
              "      <td>-0.870289</td>\n",
              "      <td>0.064038</td>\n",
              "      <td>1</td>\n",
              "    </tr>\n",
              "    <tr>\n",
              "      <th>3</th>\n",
              "      <td>e350f17a357f12a1941f0837afb7eb8d</td>\n",
              "      <td>0.183774</td>\n",
              "      <td>0.919134</td>\n",
              "      <td>-0.946958</td>\n",
              "      <td>0.918492</td>\n",
              "      <td>0.862278</td>\n",
              "      <td>1.155287</td>\n",
              "      <td>0.911106</td>\n",
              "      <td>0.562598</td>\n",
              "      <td>-1.349685</td>\n",
              "      <td>...</td>\n",
              "      <td>-1.168967</td>\n",
              "      <td>1.385089</td>\n",
              "      <td>-0.353028</td>\n",
              "      <td>3.316150</td>\n",
              "      <td>-0.524087</td>\n",
              "      <td>-0.794327</td>\n",
              "      <td>3.936365</td>\n",
              "      <td>0.682989</td>\n",
              "      <td>-2.521211</td>\n",
              "      <td>0</td>\n",
              "    </tr>\n",
              "    <tr>\n",
              "      <th>4</th>\n",
              "      <td>a8f910ea6075b6376af079055965ff68</td>\n",
              "      <td>-0.203933</td>\n",
              "      <td>-0.177252</td>\n",
              "      <td>0.368074</td>\n",
              "      <td>-0.701320</td>\n",
              "      <td>-1.104391</td>\n",
              "      <td>0.735760</td>\n",
              "      <td>0.894273</td>\n",
              "      <td>-1.375826</td>\n",
              "      <td>-5.144946</td>\n",
              "      <td>...</td>\n",
              "      <td>-0.279168</td>\n",
              "      <td>1.544356</td>\n",
              "      <td>2.959727</td>\n",
              "      <td>1.641201</td>\n",
              "      <td>-0.130818</td>\n",
              "      <td>-0.264292</td>\n",
              "      <td>-0.748668</td>\n",
              "      <td>0.964218</td>\n",
              "      <td>0.087079</td>\n",
              "      <td>0</td>\n",
              "    </tr>\n",
              "  </tbody>\n",
              "</table>\n",
              "<p>5 rows × 258 columns</p>\n",
              "</div>\n",
              "      <button class=\"colab-df-convert\" onclick=\"convertToInteractive('df-638c6cd6-d49a-43a8-96d0-2ddd3d37fc63')\"\n",
              "              title=\"Convert this dataframe to an interactive table.\"\n",
              "              style=\"display:none;\">\n",
              "        \n",
              "  <svg xmlns=\"http://www.w3.org/2000/svg\" height=\"24px\"viewBox=\"0 0 24 24\"\n",
              "       width=\"24px\">\n",
              "    <path d=\"M0 0h24v24H0V0z\" fill=\"none\"/>\n",
              "    <path d=\"M18.56 5.44l.94 2.06.94-2.06 2.06-.94-2.06-.94-.94-2.06-.94 2.06-2.06.94zm-11 1L8.5 8.5l.94-2.06 2.06-.94-2.06-.94L8.5 2.5l-.94 2.06-2.06.94zm10 10l.94 2.06.94-2.06 2.06-.94-2.06-.94-.94-2.06-.94 2.06-2.06.94z\"/><path d=\"M17.41 7.96l-1.37-1.37c-.4-.4-.92-.59-1.43-.59-.52 0-1.04.2-1.43.59L10.3 9.45l-7.72 7.72c-.78.78-.78 2.05 0 2.83L4 21.41c.39.39.9.59 1.41.59.51 0 1.02-.2 1.41-.59l7.78-7.78 2.81-2.81c.8-.78.8-2.07 0-2.86zM5.41 20L4 18.59l7.72-7.72 1.47 1.35L5.41 20z\"/>\n",
              "  </svg>\n",
              "      </button>\n",
              "      \n",
              "  <style>\n",
              "    .colab-df-container {\n",
              "      display:flex;\n",
              "      flex-wrap:wrap;\n",
              "      gap: 12px;\n",
              "    }\n",
              "\n",
              "    .colab-df-convert {\n",
              "      background-color: #E8F0FE;\n",
              "      border: none;\n",
              "      border-radius: 50%;\n",
              "      cursor: pointer;\n",
              "      display: none;\n",
              "      fill: #1967D2;\n",
              "      height: 32px;\n",
              "      padding: 0 0 0 0;\n",
              "      width: 32px;\n",
              "    }\n",
              "\n",
              "    .colab-df-convert:hover {\n",
              "      background-color: #E2EBFA;\n",
              "      box-shadow: 0px 1px 2px rgba(60, 64, 67, 0.3), 0px 1px 3px 1px rgba(60, 64, 67, 0.15);\n",
              "      fill: #174EA6;\n",
              "    }\n",
              "\n",
              "    [theme=dark] .colab-df-convert {\n",
              "      background-color: #3B4455;\n",
              "      fill: #D2E3FC;\n",
              "    }\n",
              "\n",
              "    [theme=dark] .colab-df-convert:hover {\n",
              "      background-color: #434B5C;\n",
              "      box-shadow: 0px 1px 3px 1px rgba(0, 0, 0, 0.15);\n",
              "      filter: drop-shadow(0px 1px 2px rgba(0, 0, 0, 0.3));\n",
              "      fill: #FFFFFF;\n",
              "    }\n",
              "  </style>\n",
              "\n",
              "      <script>\n",
              "        const buttonEl =\n",
              "          document.querySelector('#df-638c6cd6-d49a-43a8-96d0-2ddd3d37fc63 button.colab-df-convert');\n",
              "        buttonEl.style.display =\n",
              "          google.colab.kernel.accessAllowed ? 'block' : 'none';\n",
              "\n",
              "        async function convertToInteractive(key) {\n",
              "          const element = document.querySelector('#df-638c6cd6-d49a-43a8-96d0-2ddd3d37fc63');\n",
              "          const dataTable =\n",
              "            await google.colab.kernel.invokeFunction('convertToInteractive',\n",
              "                                                     [key], {});\n",
              "          if (!dataTable) return;\n",
              "\n",
              "          const docLinkHtml = 'Like what you see? Visit the ' +\n",
              "            '<a target=\"_blank\" href=https://colab.research.google.com/notebooks/data_table.ipynb>data table notebook</a>'\n",
              "            + ' to learn more about interactive tables.';\n",
              "          element.innerHTML = '';\n",
              "          dataTable['output_type'] = 'display_data';\n",
              "          await google.colab.output.renderOutput(dataTable, element);\n",
              "          const docLink = document.createElement('div');\n",
              "          docLink.innerHTML = docLinkHtml;\n",
              "          element.appendChild(docLink);\n",
              "        }\n",
              "      </script>\n",
              "    </div>\n",
              "  </div>\n",
              "  "
            ]
          },
          "metadata": {},
          "execution_count": 12
        }
      ]
    },
    {
      "cell_type": "code",
      "source": [
        "# test = pd.read_csv('/kaggle/input/instant-gratification/test.csv') #Kaggle\n",
        "test = pd.read_csv('test.csv')  # Colab\n",
        "test.head()"
      ],
      "metadata": {
        "execution": {
          "iopub.status.busy": "2023-04-28T12:47:27.435176Z",
          "iopub.execute_input": "2023-04-28T12:47:27.435554Z",
          "iopub.status.idle": "2023-04-28T12:47:36.954179Z",
          "shell.execute_reply.started": "2023-04-28T12:47:27.435518Z",
          "shell.execute_reply": "2023-04-28T12:47:36.952899Z"
        },
        "trusted": true,
        "id": "RHIRDMrasMWn",
        "outputId": "e88cca17-cb4c-4ffd-8c76-7b5d25a48ed1"
      },
      "execution_count": null,
      "outputs": [
        {
          "execution_count": 5,
          "output_type": "execute_result",
          "data": {
            "text/plain": "                                 id  muggy-smalt-axolotl-pembus  \\\n0  ba88c155ba898fc8b5099893036ef205                   -0.155789   \n1  7cbab5cea99169139e7e6d8ff74ebb77                   -4.528525   \n2  7baaf361537fbd8a1aaa2c97a6d4ccc7                    1.807488   \n3  2e1350fe94ec9f2220bec5245e5e9265                    0.972763   \n4  626ce222351b68b259f73de172f11249                    0.092803   \n\n   dorky-peach-sheepdog-ordinal  slimy-seashell-cassowary-goose  \\\n0                      0.761549                        1.156785   \n1                     -0.158527                        0.616473   \n2                     -0.673261                        0.526273   \n3                      0.631843                        0.854640   \n4                     -0.927249                        0.601406   \n\n   snazzy-harlequin-chicken-distraction  frumpy-smalt-mau-ordinal  \\\n0                             -0.272358                 -1.302155   \n1                             -0.172137                  1.255351   \n2                              0.175929                 -0.447282   \n3                             -0.040372                  1.544211   \n4                             -0.136351                 -0.439235   \n\n   stealthy-beige-pinscher-golden  chummy-cream-tarantula-entropy  \\\n0                        1.560988                       -1.815729   \n1                        0.064565                       -1.124906   \n2                       -0.506135                        0.080836   \n3                       -0.613590                        0.742637   \n4                        1.734636                       -2.403782   \n\n   hazy-emerald-cuttlefish-unsorted  nerdy-indigo-wolfhound-sorted  ...  \\\n0                         -0.702968                       0.435537  ...   \n1                         -1.826855                      -1.429915  ...   \n2                          0.371687                      -5.816214  ...   \n3                         -0.742686                      -0.192597  ...   \n4                          0.157426                       1.147346  ...   \n\n   goopy-lavender-wolverine-fimbus  wheezy-myrtle-mandrill-entropy  \\\n0                        -4.207352                        0.404394   \n1                        -0.219057                       -1.473936   \n2                        -4.333965                        1.213142   \n3                        -0.272967                        0.501091   \n4                        -0.211730                        0.045831   \n\n   wiggy-lilac-lemming-sorted  gloppy-cerise-snail-contributor  \\\n0                    0.695667                         0.515584   \n1                   -1.230680                         2.064435   \n2                    0.639393                         0.595109   \n3                    0.059636                        -0.815263   \n4                   -0.346738                         0.558668   \n\n   woozy-silver-havanese-gaussian  jumpy-thistle-discus-sorted  \\\n0                        1.339533                     2.005131   \n1                       -0.297421                    -0.499721   \n2                       -1.492298                     0.892696   \n3                        1.898444                    -1.613323   \n4                       -1.985189                    -1.011715   \n\n   muggy-turquoise-donkey-important  blurry-buff-hyena-entropy  \\\n0                         -1.832629                  -0.454067   \n1                          0.138128                  -1.674848   \n2                          2.198806                   0.132664   \n3                          1.755354                   0.066935   \n4                          1.555390                   0.514802   \n\n   bluesy-chocolate-kudu-fepid  gamy-white-monster-expert  \n0                    -0.204909                  -0.314752  \n1                    -2.368582                   0.185971  \n2                    -0.355048                   0.055225  \n3                     0.523591                  -0.790499  \n4                    -0.886653                   0.655927  \n\n[5 rows x 257 columns]",
            "text/html": "<div>\n<style scoped>\n    .dataframe tbody tr th:only-of-type {\n        vertical-align: middle;\n    }\n\n    .dataframe tbody tr th {\n        vertical-align: top;\n    }\n\n    .dataframe thead th {\n        text-align: right;\n    }\n</style>\n<table border=\"1\" class=\"dataframe\">\n  <thead>\n    <tr style=\"text-align: right;\">\n      <th></th>\n      <th>id</th>\n      <th>muggy-smalt-axolotl-pembus</th>\n      <th>dorky-peach-sheepdog-ordinal</th>\n      <th>slimy-seashell-cassowary-goose</th>\n      <th>snazzy-harlequin-chicken-distraction</th>\n      <th>frumpy-smalt-mau-ordinal</th>\n      <th>stealthy-beige-pinscher-golden</th>\n      <th>chummy-cream-tarantula-entropy</th>\n      <th>hazy-emerald-cuttlefish-unsorted</th>\n      <th>nerdy-indigo-wolfhound-sorted</th>\n      <th>...</th>\n      <th>goopy-lavender-wolverine-fimbus</th>\n      <th>wheezy-myrtle-mandrill-entropy</th>\n      <th>wiggy-lilac-lemming-sorted</th>\n      <th>gloppy-cerise-snail-contributor</th>\n      <th>woozy-silver-havanese-gaussian</th>\n      <th>jumpy-thistle-discus-sorted</th>\n      <th>muggy-turquoise-donkey-important</th>\n      <th>blurry-buff-hyena-entropy</th>\n      <th>bluesy-chocolate-kudu-fepid</th>\n      <th>gamy-white-monster-expert</th>\n    </tr>\n  </thead>\n  <tbody>\n    <tr>\n      <th>0</th>\n      <td>ba88c155ba898fc8b5099893036ef205</td>\n      <td>-0.155789</td>\n      <td>0.761549</td>\n      <td>1.156785</td>\n      <td>-0.272358</td>\n      <td>-1.302155</td>\n      <td>1.560988</td>\n      <td>-1.815729</td>\n      <td>-0.702968</td>\n      <td>0.435537</td>\n      <td>...</td>\n      <td>-4.207352</td>\n      <td>0.404394</td>\n      <td>0.695667</td>\n      <td>0.515584</td>\n      <td>1.339533</td>\n      <td>2.005131</td>\n      <td>-1.832629</td>\n      <td>-0.454067</td>\n      <td>-0.204909</td>\n      <td>-0.314752</td>\n    </tr>\n    <tr>\n      <th>1</th>\n      <td>7cbab5cea99169139e7e6d8ff74ebb77</td>\n      <td>-4.528525</td>\n      <td>-0.158527</td>\n      <td>0.616473</td>\n      <td>-0.172137</td>\n      <td>1.255351</td>\n      <td>0.064565</td>\n      <td>-1.124906</td>\n      <td>-1.826855</td>\n      <td>-1.429915</td>\n      <td>...</td>\n      <td>-0.219057</td>\n      <td>-1.473936</td>\n      <td>-1.230680</td>\n      <td>2.064435</td>\n      <td>-0.297421</td>\n      <td>-0.499721</td>\n      <td>0.138128</td>\n      <td>-1.674848</td>\n      <td>-2.368582</td>\n      <td>0.185971</td>\n    </tr>\n    <tr>\n      <th>2</th>\n      <td>7baaf361537fbd8a1aaa2c97a6d4ccc7</td>\n      <td>1.807488</td>\n      <td>-0.673261</td>\n      <td>0.526273</td>\n      <td>0.175929</td>\n      <td>-0.447282</td>\n      <td>-0.506135</td>\n      <td>0.080836</td>\n      <td>0.371687</td>\n      <td>-5.816214</td>\n      <td>...</td>\n      <td>-4.333965</td>\n      <td>1.213142</td>\n      <td>0.639393</td>\n      <td>0.595109</td>\n      <td>-1.492298</td>\n      <td>0.892696</td>\n      <td>2.198806</td>\n      <td>0.132664</td>\n      <td>-0.355048</td>\n      <td>0.055225</td>\n    </tr>\n    <tr>\n      <th>3</th>\n      <td>2e1350fe94ec9f2220bec5245e5e9265</td>\n      <td>0.972763</td>\n      <td>0.631843</td>\n      <td>0.854640</td>\n      <td>-0.040372</td>\n      <td>1.544211</td>\n      <td>-0.613590</td>\n      <td>0.742637</td>\n      <td>-0.742686</td>\n      <td>-0.192597</td>\n      <td>...</td>\n      <td>-0.272967</td>\n      <td>0.501091</td>\n      <td>0.059636</td>\n      <td>-0.815263</td>\n      <td>1.898444</td>\n      <td>-1.613323</td>\n      <td>1.755354</td>\n      <td>0.066935</td>\n      <td>0.523591</td>\n      <td>-0.790499</td>\n    </tr>\n    <tr>\n      <th>4</th>\n      <td>626ce222351b68b259f73de172f11249</td>\n      <td>0.092803</td>\n      <td>-0.927249</td>\n      <td>0.601406</td>\n      <td>-0.136351</td>\n      <td>-0.439235</td>\n      <td>1.734636</td>\n      <td>-2.403782</td>\n      <td>0.157426</td>\n      <td>1.147346</td>\n      <td>...</td>\n      <td>-0.211730</td>\n      <td>0.045831</td>\n      <td>-0.346738</td>\n      <td>0.558668</td>\n      <td>-1.985189</td>\n      <td>-1.011715</td>\n      <td>1.555390</td>\n      <td>0.514802</td>\n      <td>-0.886653</td>\n      <td>0.655927</td>\n    </tr>\n  </tbody>\n</table>\n<p>5 rows × 257 columns</p>\n</div>"
          },
          "metadata": {}
        }
      ]
    },
    {
      "cell_type": "code",
      "source": [
        "train.info(max_cols=258)"
      ],
      "metadata": {
        "execution": {
          "iopub.status.busy": "2023-04-28T12:47:36.955835Z",
          "iopub.execute_input": "2023-04-28T12:47:36.956366Z",
          "iopub.status.idle": "2023-04-28T12:47:37.155208Z",
          "shell.execute_reply.started": "2023-04-28T12:47:36.956318Z",
          "shell.execute_reply": "2023-04-28T12:47:37.153853Z"
        },
        "trusted": true,
        "id": "JwlHPdIEsMWn",
        "outputId": "f12eabb0-172f-46d6-bda4-88de99857a6c"
      },
      "execution_count": null,
      "outputs": [
        {
          "name": "stdout",
          "text": "<class 'pandas.core.frame.DataFrame'>\nRangeIndex: 262144 entries, 0 to 262143\nData columns (total 258 columns):\n #    Column                                      Non-Null Count   Dtype  \n---   ------                                      --------------   -----  \n 0    id                                          262144 non-null  object \n 1    muggy-smalt-axolotl-pembus                  262144 non-null  float64\n 2    dorky-peach-sheepdog-ordinal                262144 non-null  float64\n 3    slimy-seashell-cassowary-goose              262144 non-null  float64\n 4    snazzy-harlequin-chicken-distraction        262144 non-null  float64\n 5    frumpy-smalt-mau-ordinal                    262144 non-null  float64\n 6    stealthy-beige-pinscher-golden              262144 non-null  float64\n 7    chummy-cream-tarantula-entropy              262144 non-null  float64\n 8    hazy-emerald-cuttlefish-unsorted            262144 non-null  float64\n 9    nerdy-indigo-wolfhound-sorted               262144 non-null  float64\n 10   leaky-amaranth-lizard-sorted                262144 non-null  float64\n 11   ugly-tangerine-chihuahua-important          262144 non-null  float64\n 12   shaggy-silver-indri-fimbus                  262144 non-null  float64\n 13   flaky-chocolate-beetle-grandmaster          262144 non-null  float64\n 14   squirrely-harlequin-sheep-sumble            262144 non-null  float64\n 15   freaky-tan-angelfish-noise                  262144 non-null  float64\n 16   lousy-plum-penguin-sumble                   262144 non-null  float64\n 17   bluesy-rose-wallaby-discard                 262144 non-null  float64\n 18   baggy-copper-oriole-dummy                   262144 non-null  float64\n 19   stealthy-scarlet-hound-fepid                262144 non-null  float64\n 20   greasy-cinnamon-bonobo-contributor          262144 non-null  float64\n 21   cranky-cardinal-dogfish-ordinal             262144 non-null  float64\n 22   snippy-auburn-vole-learn                    262144 non-null  float64\n 23   greasy-sepia-coral-dataset                  262144 non-null  float64\n 24   flabby-tangerine-fowl-entropy               262144 non-null  float64\n 25   lousy-smalt-pinscher-dummy                  262144 non-null  float64\n 26   bluesy-brass-chihuahua-distraction          262144 non-null  float64\n 27   goopy-eggplant-indri-entropy                262144 non-null  float64\n 28   homey-sepia-bombay-sorted                   262144 non-null  float64\n 29   homely-ruby-bulldog-entropy                 262144 non-null  float64\n 30   hasty-blue-sheep-contributor                262144 non-null  float64\n 31   blurry-wisteria-oyster-master               262144 non-null  float64\n 32   snoopy-auburn-dogfish-expert                262144 non-null  float64\n 33   stinky-maroon-blue-kernel                   262144 non-null  float64\n 34   bumpy-amaranth-armadillo-important          262144 non-null  float64\n 35   slaphappy-peach-oyster-master               262144 non-null  float64\n 36   dorky-tomato-ragdoll-dataset                262144 non-null  float64\n 37   messy-mauve-wolverine-ordinal               262144 non-null  float64\n 38   geeky-pumpkin-moorhen-important             262144 non-null  float64\n 39   crabby-teal-otter-unsorted                  262144 non-null  float64\n 40   flaky-goldenrod-bat-noise                   262144 non-null  float64\n 41   beady-aquamarine-affenpinscher-grandmaster  262144 non-null  float64\n 42   pasty-auburn-rat-entropy                    262144 non-null  float64\n 43   snappy-gamboge-caterpillar-dummy            262144 non-null  float64\n 44   breezy-persimmon-newt-noise                 262144 non-null  float64\n 45   baggy-mustard-collie-hint                   262144 non-null  float64\n 46   sunny-red-weasel-hint                       262144 non-null  float64\n 47   cheeky-red-armadillo-unsorted               262144 non-null  float64\n 48   wiggy-magnolia-wolfhound-sorted             262144 non-null  float64\n 49   flimsy-chestnut-guppy-important             262144 non-null  float64\n 50   beady-champagne-bullfrog-grandmaster        262144 non-null  float64\n 51   lanky-emerald-alligator-kernel              262144 non-null  float64\n 52   blurry-flax-sloth-fepid                     262144 non-null  float64\n 53   scanty-viridian-guppy-grandmaster           262144 non-null  float64\n 54   blurry-amber-moth-dataset                   262144 non-null  float64\n 55   grumpy-zucchini-kudu-kernel                 262144 non-null  float64\n 56   chewy-myrtle-wasp-important                 262144 non-null  float64\n 57   snappy-lemon-okapi-ordinal                  262144 non-null  float64\n 58   cranky-eggplant-oyster-sumble               262144 non-null  float64\n 59   snappy-pear-quoll-unsorted                  262144 non-null  float64\n 60   crappy-cream-shrew-unsorted                 262144 non-null  float64\n 61   bluesy-amber-walrus-fepid                   262144 non-null  float64\n 62   clammy-xanthic-affenpinscher-golden         262144 non-null  float64\n 63   slimy-blue-alligator-master                 262144 non-null  float64\n 64   hazy-tan-schnauzer-hint                     262144 non-null  float64\n 65   breezy-aquamarine-sloth-sorted              262144 non-null  float64\n 66   tasty-indigo-termite-ordinal                262144 non-null  float64\n 67   thirsty-gamboge-dragonfly-kernel            262144 non-null  float64\n 68   gloppy-turquoise-quoll-goose                262144 non-null  float64\n 69   gamy-lilac-kakapo-expert                    262144 non-null  float64\n 70   geeky-amethyst-quetzal-unsorted             262144 non-null  float64\n 71   hilly-lime-vole-novice                      262144 non-null  float64\n 72   baggy-champagne-capuchin-discard            262144 non-null  float64\n 73   dorky-amaranth-eel-grandmaster              262144 non-null  float64\n 74   hasty-pink-iguana-noise                     262144 non-null  float64\n 75   snoopy-red-zonkey-unsorted                  262144 non-null  float64\n 76   tasty-periwinkle-fousek-unsorted            262144 non-null  float64\n 77   homey-scarlet-javanese-novice               262144 non-null  float64\n 78   woozy-crimson-beetle-contributor            262144 non-null  float64\n 79   snippy-burgundy-leopard-expert              262144 non-null  float64\n 80   slimy-purple-gorilla-goose                  262144 non-null  float64\n 81   snappy-brass-malamute-entropy               262144 non-null  float64\n 82   greasy-rust-birman-kernel                   262144 non-null  float64\n 83   goopy-copper-fousek-distraction             262144 non-null  float64\n 84   snazzy-cerise-donkey-distraction            262144 non-null  float64\n 85   squeaky-khaki-lionfish-distraction          262144 non-null  float64\n 86   snazzy-malachite-llama-unsorted             262144 non-null  float64\n 87   nerdy-violet-rat-pembus                     262144 non-null  float64\n 88   clammy-scarlet-emu-important                262144 non-null  float64\n 89   lovely-sangria-koala-contributor            262144 non-null  float64\n 90   blurry-sangria-saola-gaussian               262144 non-null  float64\n 91   paltry-seashell-neanderthal-master          262144 non-null  float64\n 92   crappy-pumpkin-saola-grandmaster            262144 non-null  float64\n 93   smelly-tangerine-horse-gaussian             262144 non-null  float64\n 94   cranky-magenta-mammoth-distraction          262144 non-null  float64\n 95   hazy-champagne-duck-entropy                 262144 non-null  float64\n 96   flaky-cream-peccary-sorted                  262144 non-null  float64\n 97   pokey-russet-hippopotamus-master            262144 non-null  float64\n 98   leaky-apricot-mammoth-unsorted              262144 non-null  float64\n 99   flaky-brass-grasshopper-sorted              262144 non-null  float64\n 100  skanky-cobalt-dolphin-sorted                262144 non-null  float64\n 101  zippy-platinum-gharial-kernel               262144 non-null  float64\n 102  sleazy-cinnamon-frog-grandmaster            262144 non-null  float64\n 103  gloppy-denim-ostrich-gaussian               262144 non-null  float64\n 104  smelly-yellow-akbash-important              262144 non-null  float64\n 105  shaggy-sapphire-eel-unsorted                262144 non-null  float64\n 106  queasy-peach-bison-sumble                   262144 non-null  float64\n 107  foggy-denim-hyrax-important                 262144 non-null  float64\n 108  grumpy-bronze-capybara-sumble               262144 non-null  float64\n 109  ugly-green-earwig-noise                     262144 non-null  float64\n 110  slimy-thistle-cuscus-hint                   262144 non-null  float64\n 111  chummy-ruby-chinook-dataset                 262144 non-null  float64\n 112  cranky-champagne-jackal-gaussian            262144 non-null  float64\n 113  lousy-wisteria-hornet-entropy               262144 non-null  float64\n 114  wheezy-harlequin-earwig-gaussian            262144 non-null  float64\n 115  tasty-buff-monkey-learn                     262144 non-null  float64\n 116  droopy-razzmatazz-bordeaux-dummy            262144 non-null  float64\n 117  cozy-khaki-reindeer-golden                  262144 non-null  float64\n 118  greasy-crimson-squid-grandmaster            262144 non-null  float64\n 119  dorky-turquoise-maltese-important           262144 non-null  float64\n 120  lousy-blue-buffalo-entropy                  262144 non-null  float64\n 121  skinny-yellow-hedgehog-sumble               262144 non-null  float64\n 122  pasty-flax-octopus-dataset                  262144 non-null  float64\n 123  pasty-sepia-eel-noise                       262144 non-null  float64\n 124  seedy-charcoal-capybara-ordinal             262144 non-null  float64\n 125  cranky-ultramarine-swan-pembus              262144 non-null  float64\n 126  hasty-puce-fowl-fepid                       262144 non-null  float64\n 127  sunny-purple-husky-noise                    262144 non-null  float64\n 128  stuffy-periwinkle-zebu-discard              262144 non-null  float64\n 129  nerdy-teal-olm-fepid                        262144 non-null  float64\n 130  jumpy-blue-bison-sorted                     262144 non-null  float64\n 131  wiggy-denim-retriever-distraction           262144 non-null  float64\n 132  messy-cardinal-lemur-distraction            262144 non-null  float64\n 133  scanty-periwinkle-dhole-dataset             262144 non-null  float64\n 134  snazzy-purple-donkey-discard                262144 non-null  float64\n 135  skanky-carmine-rabbit-contributor           262144 non-null  float64\n 136  wheezy-red-iguana-entropy                   262144 non-null  float64\n 137  gloppy-mauve-bonobo-important               262144 non-null  float64\n 138  breezy-magenta-loon-hint                    262144 non-null  float64\n 139  skinny-ultramarine-cat-fimbus               262144 non-null  float64\n 140  trippy-harlequin-maltese-expert             262144 non-null  float64\n 141  breezy-myrtle-loon-discard                  262144 non-null  float64\n 142  woolly-gold-millipede-fimbus                262144 non-null  float64\n 143  beady-lilac-hornet-expert                   262144 non-null  float64\n 144  bluesy-amethyst-octopus-gaussian            262144 non-null  float64\n 145  dorky-cream-flamingo-novice                 262144 non-null  float64\n 146  lanky-puce-opossum-dummy                    262144 non-null  float64\n 147  wheezy-copper-turtle-magic                  262144 non-null  int64  \n 148  gimpy-asparagus-eagle-novice                262144 non-null  float64\n 149  randy-ivory-eleuth-discard                  262144 non-null  float64\n 150  beady-orange-binturong-golden               262144 non-null  float64\n 151  zippy-harlequin-otter-grandmaster           262144 non-null  float64\n 152  cozy-vermilion-uguisu-grandmaster           262144 non-null  float64\n 153  slimy-plum-cassowary-master                 262144 non-null  float64\n 154  seedy-chartreuse-whippet-hint               262144 non-null  float64\n 155  messy-zucchini-tiger-contributor            262144 non-null  float64\n 156  stealthy-yellow-lobster-goose               262144 non-null  float64\n 157  snazzy-cream-macaque-novice                 262144 non-null  float64\n 158  muggy-pumpkin-scorpion-grandmaster          262144 non-null  float64\n 159  lovely-plum-goat-novice                     262144 non-null  float64\n 160  ugly-tangerine-llama-goose                  262144 non-null  float64\n 161  silly-tan-tapir-pembus                      262144 non-null  float64\n 162  stuffy-aquamarine-audemer-fimbus            262144 non-null  float64\n 163  cheeky-plum-fox-noise                       262144 non-null  float64\n 164  snoopy-heliotrope-squid-dataset             262144 non-null  float64\n 165  slimy-azure-molly-sumble                    262144 non-null  float64\n 166  skanky-puce-discus-contributor              262144 non-null  float64\n 167  flimsy-magnolia-gopher-learn                262144 non-null  float64\n 168  paltry-sangria-lemur-fepid                  262144 non-null  float64\n 169  leaky-grey-gerbil-sorted                    262144 non-null  float64\n 170  craggy-maroon-civet-grandmaster             262144 non-null  float64\n 171  wiggy-cinnamon-gecko-important              262144 non-null  float64\n 172  skimpy-chocolate-dog-learn                  262144 non-null  float64\n 173  nippy-jade-squirt-important                 262144 non-null  float64\n 174  whiny-flax-sloth-learn                      262144 non-null  float64\n 175  freaky-olive-insect-ordinal                 262144 non-null  float64\n 176  boozy-amethyst-tarsier-dataset              262144 non-null  float64\n 177  dorky-rose-whale-novice                     262144 non-null  float64\n 178  bumpy-amaranth-bonobo-gaussian              262144 non-null  float64\n 179  squirrely-apricot-goat-hint                 262144 non-null  float64\n 180  lanky-coral-moorhen-expert                  262144 non-null  float64\n 181  greasy-scarlet-paradise-goose               262144 non-null  float64\n 182  lousy-asparagus-tiger-discard               262144 non-null  float64\n 183  smelly-brown-deer-entropy                   262144 non-null  float64\n 184  stealthy-chocolate-urchin-kernel            262144 non-null  float64\n 185  flabby-beige-serval-noise                   262144 non-null  float64\n 186  skinny-indigo-tarantula-expert              262144 non-null  float64\n 187  zippy-cerise-weasel-contributor             262144 non-null  float64\n 188  nippy-pumpkin-rhinoceros-entropy            262144 non-null  float64\n 189  pretty-copper-insect-discard                262144 non-null  float64\n 190  grumpy-sapphire-akbash-fimbus               262144 non-null  float64\n 191  pasty-aquamarine-numbat-pembus              262144 non-null  float64\n 192  woolly-cinnabar-schnauzer-important         262144 non-null  float64\n 193  gloppy-buff-frigatebird-dataset             262144 non-null  float64\n 194  wheezy-lavender-catfish-master              262144 non-null  float64\n 195  gamy-plum-tarsier-kernel                    262144 non-null  float64\n 196  flaky-crimson-wallaby-distraction           262144 non-null  float64\n 197  cheeky-pear-horse-fimbus                    262144 non-null  float64\n 198  trippy-asparagus-bison-expert               262144 non-null  float64\n 199  lanky-aqua-bullfrog-important               262144 non-null  float64\n 200  stinky-olive-kiwi-golden                    262144 non-null  float64\n 201  sickly-denim-oriole-important               262144 non-null  float64\n 202  gloppy-persimmon-bee-unsorted               262144 non-null  float64\n 203  stealthy-azure-gopher-hint                  262144 non-null  float64\n 204  hasty-ivory-dragonfly-goose                 262144 non-null  float64\n 205  flimsy-turquoise-fox-kernel                 262144 non-null  float64\n 206  lousy-zucchini-seahorse-dummy               262144 non-null  float64\n 207  shabby-magenta-whippet-novice               262144 non-null  float64\n 208  chewy-lime-peccary-fimbus                   262144 non-null  float64\n 209  nippy-burgundy-beagle-novice                262144 non-null  float64\n 210  gloppy-firebrick-moth-dataset               262144 non-null  float64\n 211  sleazy-russet-iguana-unsorted               262144 non-null  float64\n 212  surly-corn-tzu-kernel                       262144 non-null  float64\n 213  skinny-myrtle-whippet-fepid                 262144 non-null  float64\n 214  homey-tangerine-sloth-discard               262144 non-null  float64\n 215  blurry-green-dodo-important                 262144 non-null  float64\n 216  skinny-champagne-mayfly-sorted              262144 non-null  float64\n 217  dorky-purple-kiwi-hint                      262144 non-null  float64\n 218  beady-mauve-frog-distraction                262144 non-null  float64\n 219  surly-brass-maltese-ordinal                 262144 non-null  float64\n 220  beady-asparagus-opossum-expert              262144 non-null  float64\n 221  beady-rust-impala-dummy                     262144 non-null  float64\n 222  droopy-amethyst-dachshund-hint              262144 non-null  float64\n 223  homey-crimson-budgerigar-grandmaster        262144 non-null  float64\n 224  droopy-cardinal-impala-important            262144 non-null  float64\n 225  woozy-apricot-moose-hint                    262144 non-null  float64\n 226  paltry-sapphire-labradoodle-dummy           262144 non-null  float64\n 227  crappy-carmine-eagle-entropy                262144 non-null  float64\n 228  greasy-magnolia-spider-grandmaster          262144 non-null  float64\n 229  crabby-carmine-flounder-sorted              262144 non-null  float64\n 230  skimpy-copper-fowl-grandmaster              262144 non-null  float64\n 231  hasty-seashell-woodpecker-hint              262144 non-null  float64\n 232  snappy-purple-bobcat-important              262144 non-null  float64\n 233  thirsty-carmine-corgi-ordinal               262144 non-null  float64\n 234  homely-auburn-reindeer-unsorted             262144 non-null  float64\n 235  crappy-beige-tiger-fepid                    262144 non-null  float64\n 236  cranky-auburn-swan-novice                   262144 non-null  float64\n 237  chewy-bistre-buzzard-expert                 262144 non-null  float64\n 238  skinny-cyan-macaque-pembus                  262144 non-null  float64\n 239  slimy-periwinkle-otter-expert               262144 non-null  float64\n 240  snazzy-burgundy-clam-novice                 262144 non-null  float64\n 241  cozy-ochre-gorilla-gaussian                 262144 non-null  float64\n 242  homey-sangria-wolfhound-dummy               262144 non-null  float64\n 243  snazzy-asparagus-hippopotamus-contributor   262144 non-null  float64\n 244  paltry-red-hamster-sorted                   262144 non-null  float64\n 245  zippy-dandelion-insect-golden               262144 non-null  float64\n 246  baggy-coral-bandicoot-unsorted              262144 non-null  float64\n 247  goopy-lavender-wolverine-fimbus             262144 non-null  float64\n 248  wheezy-myrtle-mandrill-entropy              262144 non-null  float64\n 249  wiggy-lilac-lemming-sorted                  262144 non-null  float64\n 250  gloppy-cerise-snail-contributor             262144 non-null  float64\n 251  woozy-silver-havanese-gaussian              262144 non-null  float64\n 252  jumpy-thistle-discus-sorted                 262144 non-null  float64\n 253  muggy-turquoise-donkey-important            262144 non-null  float64\n 254  blurry-buff-hyena-entropy                   262144 non-null  float64\n 255  bluesy-chocolate-kudu-fepid                 262144 non-null  float64\n 256  gamy-white-monster-expert                   262144 non-null  float64\n 257  target                                      262144 non-null  int64  \ndtypes: float64(255), int64(2), object(1)\nmemory usage: 516.0+ MB\n",
          "output_type": "stream"
        }
      ]
    },
    {
      "cell_type": "code",
      "source": [
        "test.info()"
      ],
      "metadata": {
        "execution": {
          "iopub.status.busy": "2023-04-28T12:47:37.159385Z",
          "iopub.execute_input": "2023-04-28T12:47:37.159827Z",
          "iopub.status.idle": "2023-04-28T12:47:37.184272Z",
          "shell.execute_reply.started": "2023-04-28T12:47:37.159789Z",
          "shell.execute_reply": "2023-04-28T12:47:37.182838Z"
        },
        "trusted": true,
        "id": "zpbiUx0tsMWn",
        "outputId": "ff124e22-1cc1-4a7e-f6a9-0ebd24476ad8"
      },
      "execution_count": null,
      "outputs": [
        {
          "name": "stdout",
          "text": "<class 'pandas.core.frame.DataFrame'>\nRangeIndex: 131072 entries, 0 to 131071\nColumns: 257 entries, id to gamy-white-monster-expert\ndtypes: float64(255), int64(1), object(1)\nmemory usage: 257.0+ MB\n",
          "output_type": "stream"
        }
      ]
    },
    {
      "cell_type": "code",
      "source": [
        "train.isna().sum().any() , test.isna().any().any()"
      ],
      "metadata": {
        "execution": {
          "iopub.status.busy": "2023-04-28T12:47:37.186697Z",
          "iopub.execute_input": "2023-04-28T12:47:37.187771Z",
          "iopub.status.idle": "2023-04-28T12:47:37.382987Z",
          "shell.execute_reply.started": "2023-04-28T12:47:37.187713Z",
          "shell.execute_reply": "2023-04-28T12:47:37.381704Z"
        },
        "trusted": true,
        "id": "ZLwbZaW-sMWo",
        "outputId": "e5482f6d-47d4-4382-cf4f-d7c6dc9abf80"
      },
      "execution_count": null,
      "outputs": [
        {
          "execution_count": 8,
          "output_type": "execute_result",
          "data": {
            "text/plain": "(False, False)"
          },
          "metadata": {}
        }
      ]
    },
    {
      "cell_type": "markdown",
      "source": [
        "#### No NUll values "
      ],
      "metadata": {
        "id": "_Iz0MdUPsMWo"
      }
    },
    {
      "cell_type": "code",
      "source": [
        "train[train.duplicated()]"
      ],
      "metadata": {
        "execution": {
          "iopub.status.busy": "2023-04-28T12:47:37.384488Z",
          "iopub.execute_input": "2023-04-28T12:47:37.384940Z",
          "iopub.status.idle": "2023-04-28T12:47:45.513557Z",
          "shell.execute_reply.started": "2023-04-28T12:47:37.384905Z",
          "shell.execute_reply": "2023-04-28T12:47:45.512300Z"
        },
        "trusted": true,
        "id": "BtjxIZwgsMWo",
        "outputId": "30ec4ffa-895b-4461-a497-c7a8c640099c"
      },
      "execution_count": null,
      "outputs": [
        {
          "execution_count": 9,
          "output_type": "execute_result",
          "data": {
            "text/plain": "Empty DataFrame\nColumns: [id, muggy-smalt-axolotl-pembus, dorky-peach-sheepdog-ordinal, slimy-seashell-cassowary-goose, snazzy-harlequin-chicken-distraction, frumpy-smalt-mau-ordinal, stealthy-beige-pinscher-golden, chummy-cream-tarantula-entropy, hazy-emerald-cuttlefish-unsorted, nerdy-indigo-wolfhound-sorted, leaky-amaranth-lizard-sorted, ugly-tangerine-chihuahua-important, shaggy-silver-indri-fimbus, flaky-chocolate-beetle-grandmaster, squirrely-harlequin-sheep-sumble, freaky-tan-angelfish-noise, lousy-plum-penguin-sumble, bluesy-rose-wallaby-discard, baggy-copper-oriole-dummy, stealthy-scarlet-hound-fepid, greasy-cinnamon-bonobo-contributor, cranky-cardinal-dogfish-ordinal, snippy-auburn-vole-learn, greasy-sepia-coral-dataset, flabby-tangerine-fowl-entropy, lousy-smalt-pinscher-dummy, bluesy-brass-chihuahua-distraction, goopy-eggplant-indri-entropy, homey-sepia-bombay-sorted, homely-ruby-bulldog-entropy, hasty-blue-sheep-contributor, blurry-wisteria-oyster-master, snoopy-auburn-dogfish-expert, stinky-maroon-blue-kernel, bumpy-amaranth-armadillo-important, slaphappy-peach-oyster-master, dorky-tomato-ragdoll-dataset, messy-mauve-wolverine-ordinal, geeky-pumpkin-moorhen-important, crabby-teal-otter-unsorted, flaky-goldenrod-bat-noise, beady-aquamarine-affenpinscher-grandmaster, pasty-auburn-rat-entropy, snappy-gamboge-caterpillar-dummy, breezy-persimmon-newt-noise, baggy-mustard-collie-hint, sunny-red-weasel-hint, cheeky-red-armadillo-unsorted, wiggy-magnolia-wolfhound-sorted, flimsy-chestnut-guppy-important, beady-champagne-bullfrog-grandmaster, lanky-emerald-alligator-kernel, blurry-flax-sloth-fepid, scanty-viridian-guppy-grandmaster, blurry-amber-moth-dataset, grumpy-zucchini-kudu-kernel, chewy-myrtle-wasp-important, snappy-lemon-okapi-ordinal, cranky-eggplant-oyster-sumble, snappy-pear-quoll-unsorted, crappy-cream-shrew-unsorted, bluesy-amber-walrus-fepid, clammy-xanthic-affenpinscher-golden, slimy-blue-alligator-master, hazy-tan-schnauzer-hint, breezy-aquamarine-sloth-sorted, tasty-indigo-termite-ordinal, thirsty-gamboge-dragonfly-kernel, gloppy-turquoise-quoll-goose, gamy-lilac-kakapo-expert, geeky-amethyst-quetzal-unsorted, hilly-lime-vole-novice, baggy-champagne-capuchin-discard, dorky-amaranth-eel-grandmaster, hasty-pink-iguana-noise, snoopy-red-zonkey-unsorted, tasty-periwinkle-fousek-unsorted, homey-scarlet-javanese-novice, woozy-crimson-beetle-contributor, snippy-burgundy-leopard-expert, slimy-purple-gorilla-goose, snappy-brass-malamute-entropy, greasy-rust-birman-kernel, goopy-copper-fousek-distraction, snazzy-cerise-donkey-distraction, squeaky-khaki-lionfish-distraction, snazzy-malachite-llama-unsorted, nerdy-violet-rat-pembus, clammy-scarlet-emu-important, lovely-sangria-koala-contributor, blurry-sangria-saola-gaussian, paltry-seashell-neanderthal-master, crappy-pumpkin-saola-grandmaster, smelly-tangerine-horse-gaussian, cranky-magenta-mammoth-distraction, hazy-champagne-duck-entropy, flaky-cream-peccary-sorted, pokey-russet-hippopotamus-master, leaky-apricot-mammoth-unsorted, flaky-brass-grasshopper-sorted, ...]\nIndex: []\n\n[0 rows x 258 columns]",
            "text/html": "<div>\n<style scoped>\n    .dataframe tbody tr th:only-of-type {\n        vertical-align: middle;\n    }\n\n    .dataframe tbody tr th {\n        vertical-align: top;\n    }\n\n    .dataframe thead th {\n        text-align: right;\n    }\n</style>\n<table border=\"1\" class=\"dataframe\">\n  <thead>\n    <tr style=\"text-align: right;\">\n      <th></th>\n      <th>id</th>\n      <th>muggy-smalt-axolotl-pembus</th>\n      <th>dorky-peach-sheepdog-ordinal</th>\n      <th>slimy-seashell-cassowary-goose</th>\n      <th>snazzy-harlequin-chicken-distraction</th>\n      <th>frumpy-smalt-mau-ordinal</th>\n      <th>stealthy-beige-pinscher-golden</th>\n      <th>chummy-cream-tarantula-entropy</th>\n      <th>hazy-emerald-cuttlefish-unsorted</th>\n      <th>nerdy-indigo-wolfhound-sorted</th>\n      <th>...</th>\n      <th>wheezy-myrtle-mandrill-entropy</th>\n      <th>wiggy-lilac-lemming-sorted</th>\n      <th>gloppy-cerise-snail-contributor</th>\n      <th>woozy-silver-havanese-gaussian</th>\n      <th>jumpy-thistle-discus-sorted</th>\n      <th>muggy-turquoise-donkey-important</th>\n      <th>blurry-buff-hyena-entropy</th>\n      <th>bluesy-chocolate-kudu-fepid</th>\n      <th>gamy-white-monster-expert</th>\n      <th>target</th>\n    </tr>\n  </thead>\n  <tbody>\n  </tbody>\n</table>\n<p>0 rows × 258 columns</p>\n</div>"
          },
          "metadata": {}
        }
      ]
    },
    {
      "cell_type": "code",
      "source": [
        "train.describe()"
      ],
      "metadata": {
        "execution": {
          "iopub.status.busy": "2023-04-28T12:47:45.515042Z",
          "iopub.execute_input": "2023-04-28T12:47:45.515352Z",
          "iopub.status.idle": "2023-04-28T12:47:49.012381Z",
          "shell.execute_reply.started": "2023-04-28T12:47:45.515322Z",
          "shell.execute_reply": "2023-04-28T12:47:49.011212Z"
        },
        "trusted": true,
        "id": "oS5g0HGFsMWo",
        "outputId": "40323b5a-660f-4384-db38-79ad70cafbd9"
      },
      "execution_count": null,
      "outputs": [
        {
          "execution_count": 10,
          "output_type": "execute_result",
          "data": {
            "text/plain": "       muggy-smalt-axolotl-pembus  dorky-peach-sheepdog-ordinal  \\\ncount               262144.000000                 262144.000000   \nmean                     0.005924                      0.000936   \nstd                      1.706660                      1.720943   \nmin                    -15.588429                    -15.644144   \n25%                     -0.765405                     -0.770224   \n50%                      0.002148                      0.003543   \n75%                      0.769228                      0.773400   \nmax                     15.797000                     18.577178   \n\n       slimy-seashell-cassowary-goose  snazzy-harlequin-chicken-distraction  \\\ncount                   262144.000000                         262144.000000   \nmean                        -0.012530                             -0.005688   \nstd                          1.698693                              1.874875   \nmin                        -15.235982                            -15.672966   \n25%                         -0.777421                             -0.802502   \n50%                         -0.005771                             -0.003505   \n75%                          0.764092                              0.798460   \nmax                         17.205310                             16.585173   \n\n       frumpy-smalt-mau-ordinal  stealthy-beige-pinscher-golden  \\\ncount             262144.000000                   262144.000000   \nmean                   0.001607                        0.007878   \nstd                    1.726869                        1.734646   \nmin                  -16.800626                      -14.789422   \n25%                   -0.770838                       -0.771608   \n50%                    0.000865                        0.002830   \n75%                    0.769954                        0.776606   \nmax                   16.815798                       17.378922   \n\n       chummy-cream-tarantula-entropy  hazy-emerald-cuttlefish-unsorted  \\\ncount                   262144.000000                     262144.000000   \nmean                        -0.003500                         -0.005927   \nstd                          1.720431                          1.693276   \nmin                        -15.591329                        -15.696478   \n25%                         -0.770634                         -0.764398   \n50%                          0.001257                         -0.003657   \n75%                          0.769794                          0.752836   \nmax                         15.202100                         16.645394   \n\n       nerdy-indigo-wolfhound-sorted  leaky-amaranth-lizard-sorted  ...  \\\ncount                  262144.000000                 262144.000000  ...   \nmean                        0.002664                      0.020485  ...   \nstd                         1.872248                      1.645070  ...   \nmin                       -17.011807                    -14.693510  ...   \n25%                        -0.795475                     -0.756594  ...   \n50%                         0.004936                      0.004372  ...   \n75%                         0.800376                      0.764807  ...   \nmax                        19.396192                     17.131375  ...   \n\n       wheezy-myrtle-mandrill-entropy  wiggy-lilac-lemming-sorted  \\\ncount                   262144.000000               262144.000000   \nmean                        -0.002670                   -0.011401   \nstd                          1.799308                    1.788832   \nmin                        -16.740804                  -17.681945   \n25%                         -0.782944                   -0.788437   \n50%                         -0.002239                   -0.004544   \n75%                          0.786180                    0.776177   \nmax                         15.511936                   16.252503   \n\n       gloppy-cerise-snail-contributor  woozy-silver-havanese-gaussian  \\\ncount                    262144.000000                   262144.000000   \nmean                          0.007895                        0.000651   \nstd                           1.775853                        1.703296   \nmin                         -15.705197                      -15.765274   \n25%                          -0.778580                       -0.767367   \n50%                          -0.000675                        0.000770   \n75%                           0.788910                        0.769277   \nmax                          16.387990                       16.260286   \n\n       jumpy-thistle-discus-sorted  muggy-turquoise-donkey-important  \\\ncount                262144.000000                     262144.000000   \nmean                     -0.002613                          0.002351   \nstd                       1.692972                          1.742284   \nmin                     -15.604682                        -16.965775   \n25%                      -0.764199                         -0.770457   \n50%                      -0.000331                         -0.000617   \n75%                       0.764115                          0.773100   \nmax                      14.748128                         16.212146   \n\n       blurry-buff-hyena-entropy  bluesy-chocolate-kudu-fepid  \\\ncount              262144.000000                262144.000000   \nmean                   -0.011684                    -0.007153   \nstd                     1.698231                     1.759408   \nmin                   -15.064518                   -16.145154   \n25%                    -0.768885                    -0.785702   \n50%                    -0.005633                    -0.004459   \n75%                     0.753518                     0.774197   \nmax                    18.866005                    18.811832   \n\n       gamy-white-monster-expert         target  \ncount              262144.000000  262144.000000  \nmean                   -0.004066       0.500225  \nstd                     1.661463       0.500001  \nmin                   -16.815640       0.000000  \n25%                    -0.766552       0.000000  \n50%                    -0.004471       1.000000  \n75%                     0.758012       1.000000  \nmax                    17.302211       1.000000  \n\n[8 rows x 257 columns]",
            "text/html": "<div>\n<style scoped>\n    .dataframe tbody tr th:only-of-type {\n        vertical-align: middle;\n    }\n\n    .dataframe tbody tr th {\n        vertical-align: top;\n    }\n\n    .dataframe thead th {\n        text-align: right;\n    }\n</style>\n<table border=\"1\" class=\"dataframe\">\n  <thead>\n    <tr style=\"text-align: right;\">\n      <th></th>\n      <th>muggy-smalt-axolotl-pembus</th>\n      <th>dorky-peach-sheepdog-ordinal</th>\n      <th>slimy-seashell-cassowary-goose</th>\n      <th>snazzy-harlequin-chicken-distraction</th>\n      <th>frumpy-smalt-mau-ordinal</th>\n      <th>stealthy-beige-pinscher-golden</th>\n      <th>chummy-cream-tarantula-entropy</th>\n      <th>hazy-emerald-cuttlefish-unsorted</th>\n      <th>nerdy-indigo-wolfhound-sorted</th>\n      <th>leaky-amaranth-lizard-sorted</th>\n      <th>...</th>\n      <th>wheezy-myrtle-mandrill-entropy</th>\n      <th>wiggy-lilac-lemming-sorted</th>\n      <th>gloppy-cerise-snail-contributor</th>\n      <th>woozy-silver-havanese-gaussian</th>\n      <th>jumpy-thistle-discus-sorted</th>\n      <th>muggy-turquoise-donkey-important</th>\n      <th>blurry-buff-hyena-entropy</th>\n      <th>bluesy-chocolate-kudu-fepid</th>\n      <th>gamy-white-monster-expert</th>\n      <th>target</th>\n    </tr>\n  </thead>\n  <tbody>\n    <tr>\n      <th>count</th>\n      <td>262144.000000</td>\n      <td>262144.000000</td>\n      <td>262144.000000</td>\n      <td>262144.000000</td>\n      <td>262144.000000</td>\n      <td>262144.000000</td>\n      <td>262144.000000</td>\n      <td>262144.000000</td>\n      <td>262144.000000</td>\n      <td>262144.000000</td>\n      <td>...</td>\n      <td>262144.000000</td>\n      <td>262144.000000</td>\n      <td>262144.000000</td>\n      <td>262144.000000</td>\n      <td>262144.000000</td>\n      <td>262144.000000</td>\n      <td>262144.000000</td>\n      <td>262144.000000</td>\n      <td>262144.000000</td>\n      <td>262144.000000</td>\n    </tr>\n    <tr>\n      <th>mean</th>\n      <td>0.005924</td>\n      <td>0.000936</td>\n      <td>-0.012530</td>\n      <td>-0.005688</td>\n      <td>0.001607</td>\n      <td>0.007878</td>\n      <td>-0.003500</td>\n      <td>-0.005927</td>\n      <td>0.002664</td>\n      <td>0.020485</td>\n      <td>...</td>\n      <td>-0.002670</td>\n      <td>-0.011401</td>\n      <td>0.007895</td>\n      <td>0.000651</td>\n      <td>-0.002613</td>\n      <td>0.002351</td>\n      <td>-0.011684</td>\n      <td>-0.007153</td>\n      <td>-0.004066</td>\n      <td>0.500225</td>\n    </tr>\n    <tr>\n      <th>std</th>\n      <td>1.706660</td>\n      <td>1.720943</td>\n      <td>1.698693</td>\n      <td>1.874875</td>\n      <td>1.726869</td>\n      <td>1.734646</td>\n      <td>1.720431</td>\n      <td>1.693276</td>\n      <td>1.872248</td>\n      <td>1.645070</td>\n      <td>...</td>\n      <td>1.799308</td>\n      <td>1.788832</td>\n      <td>1.775853</td>\n      <td>1.703296</td>\n      <td>1.692972</td>\n      <td>1.742284</td>\n      <td>1.698231</td>\n      <td>1.759408</td>\n      <td>1.661463</td>\n      <td>0.500001</td>\n    </tr>\n    <tr>\n      <th>min</th>\n      <td>-15.588429</td>\n      <td>-15.644144</td>\n      <td>-15.235982</td>\n      <td>-15.672966</td>\n      <td>-16.800626</td>\n      <td>-14.789422</td>\n      <td>-15.591329</td>\n      <td>-15.696478</td>\n      <td>-17.011807</td>\n      <td>-14.693510</td>\n      <td>...</td>\n      <td>-16.740804</td>\n      <td>-17.681945</td>\n      <td>-15.705197</td>\n      <td>-15.765274</td>\n      <td>-15.604682</td>\n      <td>-16.965775</td>\n      <td>-15.064518</td>\n      <td>-16.145154</td>\n      <td>-16.815640</td>\n      <td>0.000000</td>\n    </tr>\n    <tr>\n      <th>25%</th>\n      <td>-0.765405</td>\n      <td>-0.770224</td>\n      <td>-0.777421</td>\n      <td>-0.802502</td>\n      <td>-0.770838</td>\n      <td>-0.771608</td>\n      <td>-0.770634</td>\n      <td>-0.764398</td>\n      <td>-0.795475</td>\n      <td>-0.756594</td>\n      <td>...</td>\n      <td>-0.782944</td>\n      <td>-0.788437</td>\n      <td>-0.778580</td>\n      <td>-0.767367</td>\n      <td>-0.764199</td>\n      <td>-0.770457</td>\n      <td>-0.768885</td>\n      <td>-0.785702</td>\n      <td>-0.766552</td>\n      <td>0.000000</td>\n    </tr>\n    <tr>\n      <th>50%</th>\n      <td>0.002148</td>\n      <td>0.003543</td>\n      <td>-0.005771</td>\n      <td>-0.003505</td>\n      <td>0.000865</td>\n      <td>0.002830</td>\n      <td>0.001257</td>\n      <td>-0.003657</td>\n      <td>0.004936</td>\n      <td>0.004372</td>\n      <td>...</td>\n      <td>-0.002239</td>\n      <td>-0.004544</td>\n      <td>-0.000675</td>\n      <td>0.000770</td>\n      <td>-0.000331</td>\n      <td>-0.000617</td>\n      <td>-0.005633</td>\n      <td>-0.004459</td>\n      <td>-0.004471</td>\n      <td>1.000000</td>\n    </tr>\n    <tr>\n      <th>75%</th>\n      <td>0.769228</td>\n      <td>0.773400</td>\n      <td>0.764092</td>\n      <td>0.798460</td>\n      <td>0.769954</td>\n      <td>0.776606</td>\n      <td>0.769794</td>\n      <td>0.752836</td>\n      <td>0.800376</td>\n      <td>0.764807</td>\n      <td>...</td>\n      <td>0.786180</td>\n      <td>0.776177</td>\n      <td>0.788910</td>\n      <td>0.769277</td>\n      <td>0.764115</td>\n      <td>0.773100</td>\n      <td>0.753518</td>\n      <td>0.774197</td>\n      <td>0.758012</td>\n      <td>1.000000</td>\n    </tr>\n    <tr>\n      <th>max</th>\n      <td>15.797000</td>\n      <td>18.577178</td>\n      <td>17.205310</td>\n      <td>16.585173</td>\n      <td>16.815798</td>\n      <td>17.378922</td>\n      <td>15.202100</td>\n      <td>16.645394</td>\n      <td>19.396192</td>\n      <td>17.131375</td>\n      <td>...</td>\n      <td>15.511936</td>\n      <td>16.252503</td>\n      <td>16.387990</td>\n      <td>16.260286</td>\n      <td>14.748128</td>\n      <td>16.212146</td>\n      <td>18.866005</td>\n      <td>18.811832</td>\n      <td>17.302211</td>\n      <td>1.000000</td>\n    </tr>\n  </tbody>\n</table>\n<p>8 rows × 257 columns</p>\n</div>"
          },
          "metadata": {}
        }
      ]
    },
    {
      "cell_type": "markdown",
      "source": [
        "#### Check the distribution of the target variable"
      ],
      "metadata": {
        "id": "kz8mpHSDsMWp"
      }
    },
    {
      "cell_type": "code",
      "source": [
        "train['target'].value_counts()"
      ],
      "metadata": {
        "execution": {
          "iopub.status.busy": "2023-04-28T12:47:49.013866Z",
          "iopub.execute_input": "2023-04-28T12:47:49.014190Z",
          "iopub.status.idle": "2023-04-28T12:47:49.025785Z",
          "shell.execute_reply.started": "2023-04-28T12:47:49.014159Z",
          "shell.execute_reply": "2023-04-28T12:47:49.024326Z"
        },
        "trusted": true,
        "id": "c0W5zb_KsMWp",
        "outputId": "b991f82d-88e2-4cfa-90c8-48c650ab2314"
      },
      "execution_count": null,
      "outputs": [
        {
          "execution_count": 11,
          "output_type": "execute_result",
          "data": {
            "text/plain": "1    131131\n0    131013\nName: target, dtype: int64"
          },
          "metadata": {}
        }
      ]
    },
    {
      "cell_type": "code",
      "source": [
        "%matplotlib inline\n",
        "fig, ax = plt.subplots(figsize=(4,3))\n",
        "train['target'].value_counts().plot(kind='bar',color='g',ax=ax, label='Target Variable Counts', width=0.3)\n",
        "for p in ax.patches:\n",
        "    ax.annotate(str(p.get_height()), (p.get_x() * 1, p.get_height() * 0.5))\n",
        "plt.legend(loc='upper right', bbox_to_anchor=(1.8, 0.5))\n",
        "plt.show()"
      ],
      "metadata": {
        "execution": {
          "iopub.status.busy": "2023-04-28T12:47:49.027361Z",
          "iopub.execute_input": "2023-04-28T12:47:49.027725Z",
          "iopub.status.idle": "2023-04-28T12:47:49.312379Z",
          "shell.execute_reply.started": "2023-04-28T12:47:49.027692Z",
          "shell.execute_reply": "2023-04-28T12:47:49.311021Z"
        },
        "trusted": true,
        "id": "Dozdv5clsMWp",
        "outputId": "d1440726-a2db-4671-b1fa-d0af6bacc275"
      },
      "execution_count": null,
      "outputs": [
        {
          "output_type": "display_data",
          "data": {
            "text/plain": "<Figure size 400x300 with 1 Axes>",
            "image/png": "[encoded data removed]"
          },
          "metadata": {}
        }
      ]
    },
    {
      "cell_type": "markdown",
      "source": [
        "##### ALmost 50-50 % distribution of Target variable"
      ],
      "metadata": {
        "id": "_GcjCmxzsMWq"
      }
    },
    {
      "cell_type": "markdown",
      "source": [
        "### Standardize the data"
      ],
      "metadata": {
        "id": "AVGIfWyssMWq"
      }
    },
    {
      "cell_type": "code",
      "source": [
        "train_stand = train.copy().drop(columns='target')\n",
        "test_stand = test.copy()\n",
        "\n",
        "train_stand.shape, test_stand.shape"
      ],
      "metadata": {
        "execution": {
          "iopub.status.busy": "2023-04-28T12:47:49.313707Z",
          "iopub.execute_input": "2023-04-28T12:47:49.314653Z",
          "iopub.status.idle": "2023-04-28T12:47:49.851617Z",
          "shell.execute_reply.started": "2023-04-28T12:47:49.314596Z",
          "shell.execute_reply": "2023-04-28T12:47:49.850175Z"
        },
        "trusted": true,
        "id": "0qEl4BXxsMWq",
        "outputId": "fc69071d-08b2-4103-caed-e0cf0eb4652d"
      },
      "execution_count": null,
      "outputs": [
        {
          "execution_count": 13,
          "output_type": "execute_result",
          "data": {
            "text/plain": "((262144, 257), (131072, 257))"
          },
          "metadata": {}
        }
      ]
    },
    {
      "cell_type": "code",
      "source": [
        "train_stand.dtypes"
      ],
      "metadata": {
        "execution": {
          "iopub.status.busy": "2023-04-28T12:47:49.853395Z",
          "iopub.execute_input": "2023-04-28T12:47:49.853882Z",
          "iopub.status.idle": "2023-04-28T12:47:49.864451Z",
          "shell.execute_reply.started": "2023-04-28T12:47:49.853836Z",
          "shell.execute_reply": "2023-04-28T12:47:49.863236Z"
        },
        "trusted": true,
        "id": "BZnXVKoQsMWq",
        "outputId": "c2a1d585-42fb-4d16-c16c-46446d19e142"
      },
      "execution_count": null,
      "outputs": [
        {
          "execution_count": 14,
          "output_type": "execute_result",
          "data": {
            "text/plain": "id                                       object\nmuggy-smalt-axolotl-pembus              float64\ndorky-peach-sheepdog-ordinal            float64\nslimy-seashell-cassowary-goose          float64\nsnazzy-harlequin-chicken-distraction    float64\n                                         ...   \njumpy-thistle-discus-sorted             float64\nmuggy-turquoise-donkey-important        float64\nblurry-buff-hyena-entropy               float64\nbluesy-chocolate-kudu-fepid             float64\ngamy-white-monster-expert               float64\nLength: 257, dtype: object"
          },
          "metadata": {}
        }
      ]
    },
    {
      "cell_type": "code",
      "source": [
        "features = train_stand.columns.drop('id')\n",
        "features"
      ],
      "metadata": {
        "execution": {
          "iopub.status.busy": "2023-04-28T12:47:49.866555Z",
          "iopub.execute_input": "2023-04-28T12:47:49.867032Z",
          "iopub.status.idle": "2023-04-28T12:47:49.876943Z",
          "shell.execute_reply.started": "2023-04-28T12:47:49.866984Z",
          "shell.execute_reply": "2023-04-28T12:47:49.876024Z"
        },
        "trusted": true,
        "id": "460mh03vsMWr",
        "outputId": "240d28ae-c1fd-4f19-b946-2121a3f689ea"
      },
      "execution_count": null,
      "outputs": [
        {
          "execution_count": 15,
          "output_type": "execute_result",
          "data": {
            "text/plain": "Index(['muggy-smalt-axolotl-pembus', 'dorky-peach-sheepdog-ordinal',\n       'slimy-seashell-cassowary-goose',\n       'snazzy-harlequin-chicken-distraction', 'frumpy-smalt-mau-ordinal',\n       'stealthy-beige-pinscher-golden', 'chummy-cream-tarantula-entropy',\n       'hazy-emerald-cuttlefish-unsorted', 'nerdy-indigo-wolfhound-sorted',\n       'leaky-amaranth-lizard-sorted',\n       ...\n       'goopy-lavender-wolverine-fimbus', 'wheezy-myrtle-mandrill-entropy',\n       'wiggy-lilac-lemming-sorted', 'gloppy-cerise-snail-contributor',\n       'woozy-silver-havanese-gaussian', 'jumpy-thistle-discus-sorted',\n       'muggy-turquoise-donkey-important', 'blurry-buff-hyena-entropy',\n       'bluesy-chocolate-kudu-fepid', 'gamy-white-monster-expert'],\n      dtype='object', length=256)"
          },
          "metadata": {}
        }
      ]
    },
    {
      "cell_type": "code",
      "source": [
        "from sklearn.preprocessing import StandardScaler\n",
        "sc = StandardScaler()\n",
        "train_stand = pd.DataFrame(sc.fit_transform(train_stand[features]),columns=features)\n",
        "train_stand.head()"
      ],
      "metadata": {
        "execution": {
          "iopub.status.busy": "2023-04-28T12:47:49.880717Z",
          "iopub.execute_input": "2023-04-28T12:47:49.881135Z",
          "iopub.status.idle": "2023-04-28T12:47:51.470186Z",
          "shell.execute_reply.started": "2023-04-28T12:47:49.881099Z",
          "shell.execute_reply": "2023-04-28T12:47:51.468710Z"
        },
        "trusted": true,
        "id": "9BAaOEY6sMWr",
        "outputId": "3f743880-711c-43df-e3b7-db3820627f28"
      },
      "execution_count": null,
      "outputs": [
        {
          "execution_count": 16,
          "output_type": "execute_result",
          "data": {
            "text/plain": "   muggy-smalt-axolotl-pembus  dorky-peach-sheepdog-ordinal  \\\n0                   -1.216752                      0.591086   \n1                   -0.291579                      0.047479   \n2                   -0.988129                      0.499490   \n3                    0.104210                      0.533544   \n4                   -0.122964                     -0.103541   \n\n   slimy-seashell-cassowary-goose  snazzy-harlequin-chicken-distraction  \\\n0                        0.141976                              0.460249   \n1                        0.000787                              0.574415   \n2                       -0.626168                              0.397793   \n3                       -0.550088                              0.492930   \n4                        0.224058                             -0.371029   \n\n   frumpy-smalt-mau-ordinal  stealthy-beige-pinscher-golden  \\\n0                  0.029339                        0.128225   \n1                 -0.201494                       -0.051934   \n2                  2.129198                        0.161808   \n3                  0.498401                        0.661467   \n4                 -0.640465                        0.419615   \n\n   chummy-cream-tarantula-entropy  hazy-emerald-cuttlefish-unsorted  \\\n0                       -3.709305                          0.262979   \n1                        0.066308                         -0.222319   \n2                        0.301887                          0.547175   \n3                        0.531615                          0.335755   \n4                        0.521831                         -0.809025   \n\n   nerdy-indigo-wolfhound-sorted  leaky-amaranth-lizard-sorted  ...  \\\n0                      -0.387027                     -0.150457  ...   \n1                      -0.124067                      0.464112  ...   \n2                      -0.654797                     -0.638433  ...   \n3                      -0.722314                     -0.731407  ...   \n4                      -2.749432                     -1.257818  ...   \n\n   goopy-lavender-wolverine-fimbus  wheezy-myrtle-mandrill-entropy  \\\n0                         1.397478                        0.197057   \n1                        -0.655710                       -0.357052   \n2                         0.482220                        0.288496   \n3                        -1.070720                       -0.648193   \n4                         0.563910                       -0.153669   \n\n   wiggy-lilac-lemming-sorted  gloppy-cerise-snail-contributor  \\\n0                    0.352312                        -0.873001   \n1                   -0.690222                         1.467163   \n2                    0.079338                        -0.263032   \n3                    0.780673                        -0.203240   \n4                    0.869707                         1.662208   \n\n   woozy-silver-havanese-gaussian  jumpy-thistle-discus-sorted  \\\n0                        0.350805                     0.362895   \n1                       -0.281992                     0.935577   \n2                        1.190373                    -0.053962   \n3                        1.946523                    -0.308024   \n4                        0.963164                    -0.075728   \n\n   muggy-turquoise-donkey-important  blurry-buff-hyena-entropy  \\\n0                          0.388239                   0.152360   \n1                          0.533156                   0.096348   \n2                         -0.126630                  -0.089183   \n3                         -0.457262                   2.324806   \n4                         -0.153042                  -0.433973   \n\n   bluesy-chocolate-kudu-fepid  gamy-white-monster-expert  \n0                    -0.454429                  -0.114106  \n1                    -0.431647                   0.287950  \n2                    -0.490584                   0.040991  \n3                     0.392259                  -1.515020  \n4                     0.552102                   0.054859  \n\n[5 rows x 256 columns]",
            "text/html": "<div>\n<style scoped>\n    .dataframe tbody tr th:only-of-type {\n        vertical-align: middle;\n    }\n\n    .dataframe tbody tr th {\n        vertical-align: top;\n    }\n\n    .dataframe thead th {\n        text-align: right;\n    }\n</style>\n<table border=\"1\" class=\"dataframe\">\n  <thead>\n    <tr style=\"text-align: right;\">\n      <th></th>\n      <th>muggy-smalt-axolotl-pembus</th>\n      <th>dorky-peach-sheepdog-ordinal</th>\n      <th>slimy-seashell-cassowary-goose</th>\n      <th>snazzy-harlequin-chicken-distraction</th>\n      <th>frumpy-smalt-mau-ordinal</th>\n      <th>stealthy-beige-pinscher-golden</th>\n      <th>chummy-cream-tarantula-entropy</th>\n      <th>hazy-emerald-cuttlefish-unsorted</th>\n      <th>nerdy-indigo-wolfhound-sorted</th>\n      <th>leaky-amaranth-lizard-sorted</th>\n      <th>...</th>\n      <th>goopy-lavender-wolverine-fimbus</th>\n      <th>wheezy-myrtle-mandrill-entropy</th>\n      <th>wiggy-lilac-lemming-sorted</th>\n      <th>gloppy-cerise-snail-contributor</th>\n      <th>woozy-silver-havanese-gaussian</th>\n      <th>jumpy-thistle-discus-sorted</th>\n      <th>muggy-turquoise-donkey-important</th>\n      <th>blurry-buff-hyena-entropy</th>\n      <th>bluesy-chocolate-kudu-fepid</th>\n      <th>gamy-white-monster-expert</th>\n    </tr>\n  </thead>\n  <tbody>\n    <tr>\n      <th>0</th>\n      <td>-1.216752</td>\n      <td>0.591086</td>\n      <td>0.141976</td>\n      <td>0.460249</td>\n      <td>0.029339</td>\n      <td>0.128225</td>\n      <td>-3.709305</td>\n      <td>0.262979</td>\n      <td>-0.387027</td>\n      <td>-0.150457</td>\n      <td>...</td>\n      <td>1.397478</td>\n      <td>0.197057</td>\n      <td>0.352312</td>\n      <td>-0.873001</td>\n      <td>0.350805</td>\n      <td>0.362895</td>\n      <td>0.388239</td>\n      <td>0.152360</td>\n      <td>-0.454429</td>\n      <td>-0.114106</td>\n    </tr>\n    <tr>\n      <th>1</th>\n      <td>-0.291579</td>\n      <td>0.047479</td>\n      <td>0.000787</td>\n      <td>0.574415</td>\n      <td>-0.201494</td>\n      <td>-0.051934</td>\n      <td>0.066308</td>\n      <td>-0.222319</td>\n      <td>-0.124067</td>\n      <td>0.464112</td>\n      <td>...</td>\n      <td>-0.655710</td>\n      <td>-0.357052</td>\n      <td>-0.690222</td>\n      <td>1.467163</td>\n      <td>-0.281992</td>\n      <td>0.935577</td>\n      <td>0.533156</td>\n      <td>0.096348</td>\n      <td>-0.431647</td>\n      <td>0.287950</td>\n    </tr>\n    <tr>\n      <th>2</th>\n      <td>-0.988129</td>\n      <td>0.499490</td>\n      <td>-0.626168</td>\n      <td>0.397793</td>\n      <td>2.129198</td>\n      <td>0.161808</td>\n      <td>0.301887</td>\n      <td>0.547175</td>\n      <td>-0.654797</td>\n      <td>-0.638433</td>\n      <td>...</td>\n      <td>0.482220</td>\n      <td>0.288496</td>\n      <td>0.079338</td>\n      <td>-0.263032</td>\n      <td>1.190373</td>\n      <td>-0.053962</td>\n      <td>-0.126630</td>\n      <td>-0.089183</td>\n      <td>-0.490584</td>\n      <td>0.040991</td>\n    </tr>\n    <tr>\n      <th>3</th>\n      <td>0.104210</td>\n      <td>0.533544</td>\n      <td>-0.550088</td>\n      <td>0.492930</td>\n      <td>0.498401</td>\n      <td>0.661467</td>\n      <td>0.531615</td>\n      <td>0.335755</td>\n      <td>-0.722314</td>\n      <td>-0.731407</td>\n      <td>...</td>\n      <td>-1.070720</td>\n      <td>-0.648193</td>\n      <td>0.780673</td>\n      <td>-0.203240</td>\n      <td>1.946523</td>\n      <td>-0.308024</td>\n      <td>-0.457262</td>\n      <td>2.324806</td>\n      <td>0.392259</td>\n      <td>-1.515020</td>\n    </tr>\n    <tr>\n      <th>4</th>\n      <td>-0.122964</td>\n      <td>-0.103541</td>\n      <td>0.224058</td>\n      <td>-0.371029</td>\n      <td>-0.640465</td>\n      <td>0.419615</td>\n      <td>0.521831</td>\n      <td>-0.809025</td>\n      <td>-2.749432</td>\n      <td>-1.257818</td>\n      <td>...</td>\n      <td>0.563910</td>\n      <td>-0.153669</td>\n      <td>0.869707</td>\n      <td>1.662208</td>\n      <td>0.963164</td>\n      <td>-0.075728</td>\n      <td>-0.153042</td>\n      <td>-0.433973</td>\n      <td>0.552102</td>\n      <td>0.054859</td>\n    </tr>\n  </tbody>\n</table>\n<p>5 rows × 256 columns</p>\n</div>"
          },
          "metadata": {}
        }
      ]
    },
    {
      "cell_type": "code",
      "source": [
        "test_stand = pd.DataFrame(sc.fit_transform(test_stand[features]),columns=features)\n",
        "test_stand.head()"
      ],
      "metadata": {
        "execution": {
          "iopub.status.busy": "2023-04-28T12:47:51.472047Z",
          "iopub.execute_input": "2023-04-28T12:47:51.472634Z",
          "iopub.status.idle": "2023-04-28T12:47:52.184506Z",
          "shell.execute_reply.started": "2023-04-28T12:47:51.472584Z",
          "shell.execute_reply": "2023-04-28T12:47:52.182996Z"
        },
        "trusted": true,
        "id": "3IsoP_rAsMWr",
        "outputId": "5eb05b56-6837-4188-dce4-c5b7f9e01069"
      },
      "execution_count": null,
      "outputs": [
        {
          "execution_count": 17,
          "output_type": "execute_result",
          "data": {
            "text/plain": "   muggy-smalt-axolotl-pembus  dorky-peach-sheepdog-ordinal  \\\n0                   -0.107774                      0.402793   \n1                   -2.821365                     -0.088970   \n2                    1.110578                     -0.364085   \n3                    0.592572                      0.333468   \n4                    0.046495                     -0.499837   \n\n   slimy-seashell-cassowary-goose  snazzy-harlequin-chicken-distraction  \\\n0                        0.725953                             -0.150927   \n1                        0.397048                             -0.092992   \n2                        0.342140                              0.108217   \n3                        0.542028                             -0.016822   \n4                        0.387876                             -0.072305   \n\n   frumpy-smalt-mau-ordinal  stealthy-beige-pinscher-golden  \\\n0                 -0.749770                        0.955882   \n1                  0.712602                        0.030869   \n2                 -0.260957                       -0.321908   \n3                  0.877771                       -0.388332   \n4                 -0.256356                        1.063223   \n\n   chummy-cream-tarantula-entropy  hazy-emerald-cuttlefish-unsorted  \\\n0                       -1.117797                         -0.374602   \n1                       -0.691484                         -0.992201   \n2                        0.052590                          0.215944   \n3                        0.460994                         -0.396428   \n4                       -1.480690                          0.098203   \n\n   nerdy-indigo-wolfhound-sorted  leaky-amaranth-lizard-sorted  ...  \\\n0                       0.210771                      0.698101  ...   \n1                      -0.672384                     -0.441337  ...   \n2                      -2.748977                      0.181799  ...   \n3                      -0.086605                      0.093313  ...   \n4                       0.547760                      1.221373  ...   \n\n   goopy-lavender-wolverine-fimbus  wheezy-myrtle-mandrill-entropy  \\\n0                        -2.100916                        0.226379   \n1                        -0.101528                       -0.793408   \n2                        -2.164389                        0.665467   \n3                        -0.128554                        0.278878   \n4                        -0.097855                        0.031707   \n\n   wiggy-lilac-lemming-sorted  gloppy-cerise-snail-contributor  \\\n0                    0.393933                         0.286913   \n1                   -0.703351                         1.160271   \n2                    0.361878                         0.331755   \n3                    0.031637                        -0.463517   \n4                   -0.199841                         0.311207   \n\n   woozy-silver-havanese-gaussian  jumpy-thistle-discus-sorted  \\\n0                        0.796085                     1.375312   \n1                       -0.174951                    -0.345532   \n2                       -0.883748                     0.611064   \n3                        1.127629                    -1.110582   \n4                       -1.176129                    -0.697275   \n\n   muggy-turquoise-donkey-important  blurry-buff-hyena-entropy  \\\n0                         -1.024022                  -0.240540   \n1                          0.076416                  -0.892686   \n2                          1.227064                   0.072893   \n3                          0.979448                   0.037781   \n4                          0.867791                   0.277033   \n\n   bluesy-chocolate-kudu-fepid  gamy-white-monster-expert  \n0                    -0.119311                  -0.195221  \n1                    -1.488645                   0.135855  \n2                    -0.214330                   0.049407  \n3                     0.341738                  -0.509783  \n4                    -0.550770                   0.446589  \n\n[5 rows x 256 columns]",
            "text/html": "<div>\n<style scoped>\n    .dataframe tbody tr th:only-of-type {\n        vertical-align: middle;\n    }\n\n    .dataframe tbody tr th {\n        vertical-align: top;\n    }\n\n    .dataframe thead th {\n        text-align: right;\n    }\n</style>\n<table border=\"1\" class=\"dataframe\">\n  <thead>\n    <tr style=\"text-align: right;\">\n      <th></th>\n      <th>muggy-smalt-axolotl-pembus</th>\n      <th>dorky-peach-sheepdog-ordinal</th>\n      <th>slimy-seashell-cassowary-goose</th>\n      <th>snazzy-harlequin-chicken-distraction</th>\n      <th>frumpy-smalt-mau-ordinal</th>\n      <th>stealthy-beige-pinscher-golden</th>\n      <th>chummy-cream-tarantula-entropy</th>\n      <th>hazy-emerald-cuttlefish-unsorted</th>\n      <th>nerdy-indigo-wolfhound-sorted</th>\n      <th>leaky-amaranth-lizard-sorted</th>\n      <th>...</th>\n      <th>goopy-lavender-wolverine-fimbus</th>\n      <th>wheezy-myrtle-mandrill-entropy</th>\n      <th>wiggy-lilac-lemming-sorted</th>\n      <th>gloppy-cerise-snail-contributor</th>\n      <th>woozy-silver-havanese-gaussian</th>\n      <th>jumpy-thistle-discus-sorted</th>\n      <th>muggy-turquoise-donkey-important</th>\n      <th>blurry-buff-hyena-entropy</th>\n      <th>bluesy-chocolate-kudu-fepid</th>\n      <th>gamy-white-monster-expert</th>\n    </tr>\n  </thead>\n  <tbody>\n    <tr>\n      <th>0</th>\n      <td>-0.107774</td>\n      <td>0.402793</td>\n      <td>0.725953</td>\n      <td>-0.150927</td>\n      <td>-0.749770</td>\n      <td>0.955882</td>\n      <td>-1.117797</td>\n      <td>-0.374602</td>\n      <td>0.210771</td>\n      <td>0.698101</td>\n      <td>...</td>\n      <td>-2.100916</td>\n      <td>0.226379</td>\n      <td>0.393933</td>\n      <td>0.286913</td>\n      <td>0.796085</td>\n      <td>1.375312</td>\n      <td>-1.024022</td>\n      <td>-0.240540</td>\n      <td>-0.119311</td>\n      <td>-0.195221</td>\n    </tr>\n    <tr>\n      <th>1</th>\n      <td>-2.821365</td>\n      <td>-0.088970</td>\n      <td>0.397048</td>\n      <td>-0.092992</td>\n      <td>0.712602</td>\n      <td>0.030869</td>\n      <td>-0.691484</td>\n      <td>-0.992201</td>\n      <td>-0.672384</td>\n      <td>-0.441337</td>\n      <td>...</td>\n      <td>-0.101528</td>\n      <td>-0.793408</td>\n      <td>-0.703351</td>\n      <td>1.160271</td>\n      <td>-0.174951</td>\n      <td>-0.345532</td>\n      <td>0.076416</td>\n      <td>-0.892686</td>\n      <td>-1.488645</td>\n      <td>0.135855</td>\n    </tr>\n    <tr>\n      <th>2</th>\n      <td>1.110578</td>\n      <td>-0.364085</td>\n      <td>0.342140</td>\n      <td>0.108217</td>\n      <td>-0.260957</td>\n      <td>-0.321908</td>\n      <td>0.052590</td>\n      <td>0.215944</td>\n      <td>-2.748977</td>\n      <td>0.181799</td>\n      <td>...</td>\n      <td>-2.164389</td>\n      <td>0.665467</td>\n      <td>0.361878</td>\n      <td>0.331755</td>\n      <td>-0.883748</td>\n      <td>0.611064</td>\n      <td>1.227064</td>\n      <td>0.072893</td>\n      <td>-0.214330</td>\n      <td>0.049407</td>\n    </tr>\n    <tr>\n      <th>3</th>\n      <td>0.592572</td>\n      <td>0.333468</td>\n      <td>0.542028</td>\n      <td>-0.016822</td>\n      <td>0.877771</td>\n      <td>-0.388332</td>\n      <td>0.460994</td>\n      <td>-0.396428</td>\n      <td>-0.086605</td>\n      <td>0.093313</td>\n      <td>...</td>\n      <td>-0.128554</td>\n      <td>0.278878</td>\n      <td>0.031637</td>\n      <td>-0.463517</td>\n      <td>1.127629</td>\n      <td>-1.110582</td>\n      <td>0.979448</td>\n      <td>0.037781</td>\n      <td>0.341738</td>\n      <td>-0.509783</td>\n    </tr>\n    <tr>\n      <th>4</th>\n      <td>0.046495</td>\n      <td>-0.499837</td>\n      <td>0.387876</td>\n      <td>-0.072305</td>\n      <td>-0.256356</td>\n      <td>1.063223</td>\n      <td>-1.480690</td>\n      <td>0.098203</td>\n      <td>0.547760</td>\n      <td>1.221373</td>\n      <td>...</td>\n      <td>-0.097855</td>\n      <td>0.031707</td>\n      <td>-0.199841</td>\n      <td>0.311207</td>\n      <td>-1.176129</td>\n      <td>-0.697275</td>\n      <td>0.867791</td>\n      <td>0.277033</td>\n      <td>-0.550770</td>\n      <td>0.446589</td>\n    </tr>\n  </tbody>\n</table>\n<p>5 rows × 256 columns</p>\n</div>"
          },
          "metadata": {}
        }
      ]
    },
    {
      "cell_type": "markdown",
      "source": [
        "### Create a train and test splits"
      ],
      "metadata": {
        "id": "-9ZvCoXvsMWr"
      }
    },
    {
      "cell_type": "code",
      "source": [
        "from sklearn.model_selection import train_test_split\n",
        "X_train, X_test, Y_train, Y_test = train_test_split(train_stand, train['target'], test_size=0.3, random_state=10)\n",
        "X_train.shape, Y_train.shape, X_test.shape, Y_test.shape"
      ],
      "metadata": {
        "execution": {
          "iopub.status.busy": "2023-04-28T12:47:52.186394Z",
          "iopub.execute_input": "2023-04-28T12:47:52.186962Z",
          "iopub.status.idle": "2023-04-28T12:47:52.783526Z",
          "shell.execute_reply.started": "2023-04-28T12:47:52.186911Z",
          "shell.execute_reply": "2023-04-28T12:47:52.781901Z"
        },
        "trusted": true,
        "id": "quEFYabMsMWr",
        "outputId": "59325068-9cea-48e7-f8e8-f002a31bb027"
      },
      "execution_count": null,
      "outputs": [
        {
          "execution_count": 18,
          "output_type": "execute_result",
          "data": {
            "text/plain": "((183500, 256), (183500,), (78644, 256), (78644,))"
          },
          "metadata": {}
        }
      ]
    },
    {
      "cell_type": "markdown",
      "source": [
        "### Build a Logistic Regression model"
      ],
      "metadata": {
        "id": "B_30NMk4sMWr"
      }
    },
    {
      "cell_type": "code",
      "source": [
        "from sklearn.linear_model import LogisticRegression \n",
        "from sklearn import metrics  \n",
        "\n",
        "logreg = LogisticRegression()\n",
        "logreg.fit(X_train, Y_train)\n",
        "y_pred = logreg.predict(X_test)\n",
        "y_compare= pd.DataFrame({'y_test': Y_test, 'y_pred': y_pred})\n",
        "y_compare.head(10)"
      ],
      "metadata": {
        "execution": {
          "iopub.status.busy": "2023-04-28T12:47:52.785728Z",
          "iopub.execute_input": "2023-04-28T12:47:52.786207Z",
          "iopub.status.idle": "2023-04-28T12:47:53.440664Z",
          "shell.execute_reply.started": "2023-04-28T12:47:52.786158Z",
          "shell.execute_reply": "2023-04-28T12:47:53.438962Z"
        },
        "trusted": true,
        "id": "zdEfbpSUsMWs",
        "outputId": "f81c31a9-eb25-4197-b29f-edaab194f4a3"
      },
      "execution_count": null,
      "outputs": [
        {
          "execution_count": 19,
          "output_type": "execute_result",
          "data": {
            "text/plain": "        y_test  y_pred\n220963       0       1\n33559        1       1\n247791       1       0\n71429        1       1\n197685       1       0\n251826       1       1\n243196       1       1\n121422       0       1\n181381       1       0\n148292       1       0",
            "text/html": "<div>\n<style scoped>\n    .dataframe tbody tr th:only-of-type {\n        vertical-align: middle;\n    }\n\n    .dataframe tbody tr th {\n        vertical-align: top;\n    }\n\n    .dataframe thead th {\n        text-align: right;\n    }\n</style>\n<table border=\"1\" class=\"dataframe\">\n  <thead>\n    <tr style=\"text-align: right;\">\n      <th></th>\n      <th>y_test</th>\n      <th>y_pred</th>\n    </tr>\n  </thead>\n  <tbody>\n    <tr>\n      <th>220963</th>\n      <td>0</td>\n      <td>1</td>\n    </tr>\n    <tr>\n      <th>33559</th>\n      <td>1</td>\n      <td>1</td>\n    </tr>\n    <tr>\n      <th>247791</th>\n      <td>1</td>\n      <td>0</td>\n    </tr>\n    <tr>\n      <th>71429</th>\n      <td>1</td>\n      <td>1</td>\n    </tr>\n    <tr>\n      <th>197685</th>\n      <td>1</td>\n      <td>0</td>\n    </tr>\n    <tr>\n      <th>251826</th>\n      <td>1</td>\n      <td>1</td>\n    </tr>\n    <tr>\n      <th>243196</th>\n      <td>1</td>\n      <td>1</td>\n    </tr>\n    <tr>\n      <th>121422</th>\n      <td>0</td>\n      <td>1</td>\n    </tr>\n    <tr>\n      <th>181381</th>\n      <td>1</td>\n      <td>0</td>\n    </tr>\n    <tr>\n      <th>148292</th>\n      <td>1</td>\n      <td>0</td>\n    </tr>\n  </tbody>\n</table>\n</div>"
          },
          "metadata": {}
        }
      ]
    },
    {
      "cell_type": "markdown",
      "source": [
        "#### Predicted Probability of 0 and 1 \n"
      ],
      "metadata": {
        "id": "_HXrZ1oFsMWs"
      }
    },
    {
      "cell_type": "code",
      "source": [
        "y_prob = logreg.predict_proba(X_test)\n",
        "print(y_prob.shape)\n",
        "y_prob[0:5]"
      ],
      "metadata": {
        "execution": {
          "iopub.status.busy": "2023-04-28T12:47:53.442748Z",
          "iopub.execute_input": "2023-04-28T12:47:53.444218Z",
          "iopub.status.idle": "2023-04-28T12:47:53.504704Z",
          "shell.execute_reply.started": "2023-04-28T12:47:53.444141Z",
          "shell.execute_reply": "2023-04-28T12:47:53.502937Z"
        },
        "trusted": true,
        "id": "2lhhXdsRsMWs",
        "outputId": "cd498595-d089-4427-d5f2-5701bc90755b"
      },
      "execution_count": null,
      "outputs": [
        {
          "name": "stdout",
          "text": "(78644, 2)\n",
          "output_type": "stream"
        },
        {
          "execution_count": 20,
          "output_type": "execute_result",
          "data": {
            "text/plain": "array([[0.48569415, 0.51430585],\n       [0.47438674, 0.52561326],\n       [0.50334013, 0.49665987],\n       [0.48665818, 0.51334182],\n       [0.54529554, 0.45470446]])"
          },
          "metadata": {}
        }
      ]
    },
    {
      "cell_type": "markdown",
      "source": [
        "#### Check Model Performance"
      ],
      "metadata": {
        "id": "56nQxbnZsMWs"
      }
    },
    {
      "cell_type": "code",
      "source": [
        "fig, ax = plt.subplots(figsize= (3,3))\n",
        "sns.heatmap(metrics.confusion_matrix(Y_test,y_pred),ax=ax, annot=True, fmt='2,.0f')\n",
        "plt.show()\n",
        "print(metrics.classification_report(Y_test,y_pred))"
      ],
      "metadata": {
        "execution": {
          "iopub.status.busy": "2023-04-28T12:47:53.506893Z",
          "iopub.execute_input": "2023-04-28T12:47:53.508399Z",
          "iopub.status.idle": "2023-04-28T12:47:53.880915Z",
          "shell.execute_reply.started": "2023-04-28T12:47:53.508326Z",
          "shell.execute_reply": "2023-04-28T12:47:53.879691Z"
        },
        "trusted": true,
        "id": "WlmV5ajXsMWs",
        "outputId": "9d04d724-c2d5-4867-ef1d-4c915a5d04f0"
      },
      "execution_count": null,
      "outputs": [
        {
          "output_type": "display_data",
          "data": {
            "text/plain": "<Figure size 300x300 with 2 Axes>",
            "image/png": "[encoded data removed]"
          },
          "metadata": {}
        },
        {
          "name": "stdout",
          "text": "              precision    recall  f1-score   support\n\n           0       0.52      0.53      0.52     39252\n           1       0.52      0.52      0.52     39392\n\n    accuracy                           0.52     78644\n   macro avg       0.52      0.52      0.52     78644\nweighted avg       0.52      0.52      0.52     78644\n\n",
          "output_type": "stream"
        }
      ]
    },
    {
      "cell_type": "code",
      "source": [
        "#Check Model performance\n",
        "print(f'Logistic Regression Model accuracy is : {round(metrics.accuracy_score(Y_test,y_pred) * 100 , 2)} %')\n",
        "print('Logistic Regression Model Precision is :' ,round(metrics.precision_score(Y_test,y_pred) * 100 , 2),'%')\n",
        "print('Logistic Regression recall_score is :' ,round(metrics.recall_score(Y_test,y_pred) * 100 , 2),'%')\n",
        "print('Logistic Regression f1_score  is :' ,round(metrics.f1_score(Y_test,y_pred) * 100 , 2),'%')"
      ],
      "metadata": {
        "execution": {
          "iopub.status.busy": "2023-04-28T12:47:53.882558Z",
          "iopub.execute_input": "2023-04-28T12:47:53.882924Z",
          "iopub.status.idle": "2023-04-28T12:47:53.991650Z",
          "shell.execute_reply.started": "2023-04-28T12:47:53.882890Z",
          "shell.execute_reply": "2023-04-28T12:47:53.990375Z"
        },
        "trusted": true,
        "id": "wIfwdEC4sMWs",
        "outputId": "1dbd261f-077b-4672-f42a-005bec8bc9f7"
      },
      "execution_count": null,
      "outputs": [
        {
          "name": "stdout",
          "text": "Logistic Regression Model accuracy is : 52.23 %\nLogistic Regression Model Precision is : 52.34 %\nLogistic Regression recall_score is : 51.89 %\nLogistic Regression f1_score  is : 52.11 %\n",
          "output_type": "stream"
        }
      ]
    },
    {
      "cell_type": "code",
      "source": [
        "score_logreg = logreg.score(X_test, Y_test)\n",
        "print(f'Test Score : {round(score_logreg,2) * 100 } %')"
      ],
      "metadata": {
        "execution": {
          "iopub.status.busy": "2023-04-28T12:56:33.150061Z",
          "iopub.execute_input": "2023-04-28T12:56:33.150469Z",
          "iopub.status.idle": "2023-04-28T12:56:33.200867Z",
          "shell.execute_reply.started": "2023-04-28T12:56:33.150430Z",
          "shell.execute_reply": "2023-04-28T12:56:33.198992Z"
        },
        "trusted": true,
        "id": "R_XRXfOtsMWt",
        "outputId": "a7d307a8-0bff-417d-d3e4-ad6d5bd1a02e"
      },
      "execution_count": null,
      "outputs": [
        {
          "name": "stdout",
          "text": "Test Score : 52.0 %\n",
          "output_type": "stream"
        }
      ]
    },
    {
      "cell_type": "markdown",
      "source": [
        "### Logistic Regression performance is really bad with only 52.23% Accuracy"
      ],
      "metadata": {
        "id": "0UsqPXv9sMWt"
      }
    },
    {
      "cell_type": "markdown",
      "source": [
        "### Random Forest"
      ],
      "metadata": {
        "id": "UNXNygaGsMWt"
      }
    },
    {
      "cell_type": "code",
      "source": [
        "from sklearn.ensemble import RandomForestClassifier\n",
        "rf = RandomForestClassifier(n_estimators =20)\n",
        "rf.fit(X_train, Y_train)\n",
        "y_pred = rf.predict(X_test)\n",
        "y_compare= pd.DataFrame({'y_test': Y_test, 'y_pred': y_pred})\n",
        "y_compare.head(10)"
      ],
      "metadata": {
        "execution": {
          "iopub.status.busy": "2023-04-28T12:47:53.993560Z",
          "iopub.execute_input": "2023-04-28T12:47:53.994071Z",
          "iopub.status.idle": "2023-04-28T12:51:23.255173Z",
          "shell.execute_reply.started": "2023-04-28T12:47:53.994034Z",
          "shell.execute_reply": "2023-04-28T12:51:23.253861Z"
        },
        "trusted": true,
        "id": "bfZIDFzhsMWt",
        "outputId": "c1a27ecf-66a1-469c-e18b-85ce0ecde6c9"
      },
      "execution_count": null,
      "outputs": [
        {
          "execution_count": 23,
          "output_type": "execute_result",
          "data": {
            "text/plain": "        y_test  y_pred\n220963       0       1\n33559        1       0\n247791       1       0\n71429        1       1\n197685       1       1\n251826       1       1\n243196       1       0\n121422       0       1\n181381       1       0\n148292       1       0",
            "text/html": "<div>\n<style scoped>\n    .dataframe tbody tr th:only-of-type {\n        vertical-align: middle;\n    }\n\n    .dataframe tbody tr th {\n        vertical-align: top;\n    }\n\n    .dataframe thead th {\n        text-align: right;\n    }\n</style>\n<table border=\"1\" class=\"dataframe\">\n  <thead>\n    <tr style=\"text-align: right;\">\n      <th></th>\n      <th>y_test</th>\n      <th>y_pred</th>\n    </tr>\n  </thead>\n  <tbody>\n    <tr>\n      <th>220963</th>\n      <td>0</td>\n      <td>1</td>\n    </tr>\n    <tr>\n      <th>33559</th>\n      <td>1</td>\n      <td>0</td>\n    </tr>\n    <tr>\n      <th>247791</th>\n      <td>1</td>\n      <td>0</td>\n    </tr>\n    <tr>\n      <th>71429</th>\n      <td>1</td>\n      <td>1</td>\n    </tr>\n    <tr>\n      <th>197685</th>\n      <td>1</td>\n      <td>1</td>\n    </tr>\n    <tr>\n      <th>251826</th>\n      <td>1</td>\n      <td>1</td>\n    </tr>\n    <tr>\n      <th>243196</th>\n      <td>1</td>\n      <td>0</td>\n    </tr>\n    <tr>\n      <th>121422</th>\n      <td>0</td>\n      <td>1</td>\n    </tr>\n    <tr>\n      <th>181381</th>\n      <td>1</td>\n      <td>0</td>\n    </tr>\n    <tr>\n      <th>148292</th>\n      <td>1</td>\n      <td>0</td>\n    </tr>\n  </tbody>\n</table>\n</div>"
          },
          "metadata": {}
        }
      ]
    },
    {
      "cell_type": "code",
      "source": [
        "score_rf = rf.score(X_test, Y_test)\n",
        "print(f'Test Score : {round(score_rf,2) * 100 } %')"
      ],
      "metadata": {
        "execution": {
          "iopub.status.busy": "2023-04-28T12:57:01.393214Z",
          "iopub.execute_input": "2023-04-28T12:57:01.393719Z",
          "iopub.status.idle": "2023-04-28T12:57:02.608670Z",
          "shell.execute_reply.started": "2023-04-28T12:57:01.393678Z",
          "shell.execute_reply": "2023-04-28T12:57:02.607235Z"
        },
        "trusted": true,
        "id": "WD0lTaexsMWt",
        "outputId": "a5804f3c-b27b-487e-8346-7b491af663a3"
      },
      "execution_count": null,
      "outputs": [
        {
          "name": "stdout",
          "text": "Test Score : 51.0 %\n",
          "output_type": "stream"
        }
      ]
    },
    {
      "cell_type": "code",
      "source": [
        "#Check Model performance\n",
        "print(f'Random Forest Model accuracy is : {round(metrics.accuracy_score(Y_test,y_pred) * 100 , 2)} %')\n",
        "print('Random Forest Model Precision is :' ,round(metrics.precision_score(Y_test,y_pred) * 100 , 2),'%')\n",
        "print('Random Forest recall_score is :' ,round(metrics.recall_score(Y_test,y_pred) * 100 , 2),'%')\n",
        "print('Random Forest f1_score  is :' ,round(metrics.f1_score(Y_test,y_pred) * 100 , 2),'%')\n",
        "\n",
        "fig, ax = plt.subplots(figsize= (3,3))\n",
        "sns.heatmap(metrics.confusion_matrix(Y_test,y_pred),ax=ax, annot=True, fmt='2,.0f')\n",
        "plt.show()\n",
        "print(metrics.classification_report(Y_test,y_pred))"
      ],
      "metadata": {
        "execution": {
          "iopub.status.busy": "2023-04-28T12:51:23.256216Z",
          "iopub.execute_input": "2023-04-28T12:51:23.256556Z",
          "iopub.status.idle": "2023-04-28T12:51:23.757930Z",
          "shell.execute_reply.started": "2023-04-28T12:51:23.256523Z",
          "shell.execute_reply": "2023-04-28T12:51:23.756560Z"
        },
        "trusted": true,
        "id": "WSbXBDTYsMWt",
        "outputId": "c88408b3-1d54-4185-f3b0-f958822f7e88"
      },
      "execution_count": null,
      "outputs": [
        {
          "name": "stdout",
          "text": "Random Forest Model accuracy is : 50.87 %\nRandom Forest Model Precision is : 51.16 %\nRandom Forest recall_score is : 42.23 %\nRandom Forest f1_score  is : 46.27 %\n",
          "output_type": "stream"
        },
        {
          "output_type": "display_data",
          "data": {
            "text/plain": "<Figure size 300x300 with 2 Axes>",
            "image/png": "[encoded data removed]"
          },
          "metadata": {}
        },
        {
          "name": "stdout",
          "text": "              precision    recall  f1-score   support\n\n           0       0.51      0.60      0.55     39252\n           1       0.51      0.42      0.46     39392\n\n    accuracy                           0.51     78644\n   macro avg       0.51      0.51      0.51     78644\nweighted avg       0.51      0.51      0.51     78644\n\n",
          "output_type": "stream"
        }
      ]
    },
    {
      "cell_type": "markdown",
      "source": [
        "#### Random forest performs even worse than Logistic with 51% accuracy"
      ],
      "metadata": {
        "id": "S4yEwrSysMWu"
      }
    },
    {
      "cell_type": "code",
      "source": [
        "# machine learning\n",
        "from sklearn.neighbors import KNeighborsClassifier\n",
        "from sklearn.naive_bayes import GaussianNB\n",
        "from sklearn.linear_model import Perceptron\n",
        "from sklearn.linear_model import SGDClassifier\n",
        "from sklearn.tree import DecisionTreeClassifier"
      ],
      "metadata": {
        "execution": {
          "iopub.status.busy": "2023-04-28T12:51:58.447415Z",
          "iopub.execute_input": "2023-04-28T12:51:58.447838Z",
          "iopub.status.idle": "2023-04-28T12:51:58.455532Z",
          "shell.execute_reply.started": "2023-04-28T12:51:58.447803Z",
          "shell.execute_reply": "2023-04-28T12:51:58.454059Z"
        },
        "trusted": true,
        "id": "FPsGYVIWsMWu"
      },
      "execution_count": null,
      "outputs": []
    },
    {
      "cell_type": "markdown",
      "source": [
        "# ## Support Vector Machines\n"
      ],
      "metadata": {
        "id": "hookSHk0sMWu"
      }
    },
    {
      "cell_type": "code",
      "source": [
        "from sklearn.svm import SVC, LinearSVC\n",
        "svc = SVC()\n",
        "svc.fit(X_train, Y_train)\n",
        "y_pred = svc.predict(X_test)\n",
        "score_svc = svc.score(X_test, Y_test)\n",
        "print(f'Test Score : {round(score_svc,2) * 100 } %')"
      ],
      "metadata": {
        "execution": {
          "iopub.status.busy": "2023-04-28T13:00:48.755067Z",
          "iopub.execute_input": "2023-04-28T13:00:48.755484Z"
        },
        "trusted": true,
        "id": "8X3EPZwisMWu"
      },
      "execution_count": null,
      "outputs": []
    },
    {
      "cell_type": "code",
      "source": [
        "#Check Model performance\n",
        "fig, ax = plt.subplots(figsize= (3,3))\n",
        "sns.heatmap(metrics.confusion_matrix(Y_test,y_pred),ax=ax, annot=True, fmt='2,.0f')\n",
        "plt.show()\n",
        "print(metrics.classification_report(Y_test,y_pred))"
      ],
      "metadata": {
        "id": "agY_mtHTsMWu"
      },
      "execution_count": null,
      "outputs": []
    }
  ]
}